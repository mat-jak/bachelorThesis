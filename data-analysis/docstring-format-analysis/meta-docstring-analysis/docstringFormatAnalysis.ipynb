{
 "cells": [
  {
   "cell_type": "code",
   "execution_count": 23,
   "metadata": {
    "collapsed": true,
    "pycharm": {
     "name": "#%% \n",
     "is_executing": false
    }
   },
   "outputs": [],
   "source": [
    "import pandas as pd\n",
    "import numpy as np\n",
    "import matplotlib.pyplot as plt\n",
    "from matplotlib.ticker import StrMethodFormatter\n",
    "import scipy as sp\n",
    "import scipy.stats\n",
    "from mlxtend.frequent_patterns import apriori\n",
    "from mlxtend.preprocessing import TransactionEncoder\n",
    "from IPython.core.interactiveshell import InteractiveShell\n",
    "InteractiveShell.ast_node_interactivity = \"all\"\n"
   ]
  },
  {
   "cell_type": "markdown",
   "source": [
    "Read json to dataframe:\n"
   ],
   "metadata": {
    "collapsed": false
   }
  },
  {
   "cell_type": "code",
   "execution_count": 24,
   "outputs": [],
   "source": [
    "json = '../resource/parsed-docstrings.json'\n",
    "all_docstrings = '../../docstring-length-and-component-distribution/resource/allDocstrings.json'\n",
    "data = pd.read_json(json)\n",
    "all_docstrings_data = pd.read_json(all_docstrings)\n",
    "df = pd.DataFrame(data)\n",
    "all_docstrings_df = pd.DataFrame(all_docstrings_data)\n",
    "\n"
   ],
   "metadata": {
    "collapsed": false,
    "pycharm": {
     "name": "#%%\n",
     "is_executing": false
    }
   }
  },
  {
   "cell_type": "markdown",
   "source": [
    "Function for removing outliers:\n"
   ],
   "metadata": {
    "collapsed": false
   }
  },
  {
   "cell_type": "code",
   "execution_count": 25,
   "outputs": [],
   "source": [
    "def remove_outlier(df_in, col_name):\n",
    "    q1 = df_in[col_name].quantile(0.25)\n",
    "    q3 = df_in[col_name].quantile(0.75)\n",
    "    iqr = q3-q1 #Interquartile range\n",
    "    fence_low = q1-1.5*iqr\n",
    "    fence_high = q3+1.5*iqr\n",
    "    df_out = df_in.loc[(df_in[col_name] > fence_low) & (df_in[col_name] < fence_high)]\n",
    "    return df_out\n"
   ],
   "metadata": {
    "collapsed": false,
    "pycharm": {
     "name": "#%%\n",
     "is_executing": false
    }
   }
  },
  {
   "cell_type": "markdown",
   "source": [
    "<h3>Number of parsable docstrings, and the number of Projects in which they occur</h3>\n"
   ],
   "metadata": {
    "collapsed": false,
    "pycharm": {
     "name": "#%% md\n"
    }
   }
  },
  {
   "cell_type": "code",
   "execution_count": 26,
   "outputs": [
    {
     "data": {
      "text/plain": "151740"
     },
     "metadata": {},
     "output_type": "execute_result",
     "execution_count": 26
    },
    {
     "data": {
      "text/plain": "148764"
     },
     "metadata": {},
     "output_type": "execute_result",
     "execution_count": 26
    },
    {
     "data": {
      "text/plain": "98.03875049426651"
     },
     "metadata": {},
     "output_type": "execute_result",
     "execution_count": 26
    },
    {
     "data": {
      "text/plain": "91"
     },
     "metadata": {},
     "output_type": "execute_result",
     "execution_count": 26
    }
   ],
   "source": [
    "\n",
    "#Number of all docstrings:\n",
    "len(all_docstrings_df.index)\n",
    "\n",
    "\n",
    "#Number of parsable docstrings:\n",
    "len(df.index)\n",
    "\n",
    "#Percentage of parsable docstrings:\n",
    "len(df.index) / len(all_docstrings_df.index) * 100\n",
    "\n",
    "len(df.groupby(\"sourceProject\"))\n",
    "\n"
   ],
   "metadata": {
    "collapsed": false,
    "pycharm": {
     "name": "#%%\n",
     "is_executing": false
    }
   }
  },
  {
   "cell_type": "markdown",
   "source": [
    "<h4>Remove Classes and Modules</h4>\n"
   ],
   "metadata": {
    "collapsed": false,
    "pycharm": {
     "name": "#%% md\n"
    }
   }
  },
  {
   "cell_type": "code",
   "execution_count": 27,
   "outputs": [
    {
     "data": {
      "text/plain": "115733"
     },
     "metadata": {},
     "output_type": "execute_result",
     "execution_count": 27
    },
    {
     "data": {
      "text/plain": "76.27059443785423"
     },
     "metadata": {},
     "output_type": "execute_result",
     "execution_count": 27
    },
    {
     "data": {
      "text/plain": "87"
     },
     "metadata": {},
     "output_type": "execute_result",
     "execution_count": 27
    }
   ],
   "source": [
    "df = df[df.containerType == \"FUNCTION\"]\n",
    "len(df.index)\n",
    "len(df.index) / len(all_docstrings_df.index) * 100\n",
    "len(df.groupby(\"sourceProject\"))\n"
   ],
   "metadata": {
    "collapsed": false,
    "pycharm": {
     "name": "#%%\n",
     "is_executing": false
    }
   }
  },
  {
   "cell_type": "markdown",
   "source": [
    "<h3>Distribution of format notations:<h3>\n"
   ],
   "metadata": {
    "collapsed": false
   }
  },
  {
   "cell_type": "code",
   "execution_count": 28,
   "outputs": [
    {
     "data": {
      "text/plain": "       numberOfLines\ncount   20727.000000\nmean       11.791142\nstd        14.041723\nmin         1.000000\n25%         5.000000\n50%         8.000000\n75%        13.000000\nmax       257.000000",
      "text/html": "<div>\n<style scoped>\n    .dataframe tbody tr th:only-of-type {\n        vertical-align: middle;\n    }\n\n    .dataframe tbody tr th {\n        vertical-align: top;\n    }\n\n    .dataframe thead th {\n        text-align: right;\n    }\n</style>\n<table border=\"1\" class=\"dataframe\">\n  <thead>\n    <tr style=\"text-align: right;\">\n      <th></th>\n      <th>numberOfLines</th>\n    </tr>\n  </thead>\n  <tbody>\n    <tr>\n      <th>count</th>\n      <td>20727.000000</td>\n    </tr>\n    <tr>\n      <th>mean</th>\n      <td>11.791142</td>\n    </tr>\n    <tr>\n      <th>std</th>\n      <td>14.041723</td>\n    </tr>\n    <tr>\n      <th>min</th>\n      <td>1.000000</td>\n    </tr>\n    <tr>\n      <th>25%</th>\n      <td>5.000000</td>\n    </tr>\n    <tr>\n      <th>50%</th>\n      <td>8.000000</td>\n    </tr>\n    <tr>\n      <th>75%</th>\n      <td>13.000000</td>\n    </tr>\n    <tr>\n      <th>max</th>\n      <td>257.000000</td>\n    </tr>\n  </tbody>\n</table>\n</div>"
     },
     "metadata": {},
     "output_type": "execute_result",
     "execution_count": 28
    },
    {
     "data": {
      "text/plain": "RESTRUCTUREDTEXT    8536\nGOOGLESTYLE         7638\nNUMPYDOC            4481\nEPYTEXT               72\nName: docstringFormat, dtype: int64"
     },
     "metadata": {},
     "output_type": "execute_result",
     "execution_count": 28
    },
    {
     "data": {
      "text/plain": "<matplotlib.axes._subplots.AxesSubplot at 0x1e0f74cf358>"
     },
     "metadata": {},
     "output_type": "execute_result",
     "execution_count": 28
    },
    {
     "data": {
      "text/plain": "Text(0.5, 0, 'Number of Lines')"
     },
     "metadata": {},
     "output_type": "execute_result",
     "execution_count": 28
    },
    {
     "data": {
      "text/plain": "Text(0, 0.5, 'Amount of Docstrings')"
     },
     "metadata": {},
     "output_type": "execute_result",
     "execution_count": 28
    },
    {
     "data": {
      "text/plain": "17.90932577570788"
     },
     "metadata": {},
     "output_type": "execute_result",
     "execution_count": 28
    },
    {
     "data": {
      "text/plain": "211"
     },
     "metadata": {},
     "output_type": "execute_result",
     "execution_count": 28
    },
    {
     "data": {
      "text/plain": "<Figure size 432x288 with 1 Axes>",
      "image/png": "[encoded data removed]"
     },
     "metadata": {
      "needs_background": "light"
     },
     "output_type": "display_data"
    }
   ],
   "source": [
    "array = ['GOOGLESTYLE', 'RESTRUCTUREDTEXT', 'EPYTEXT', 'NUMPYDOC']\n",
    "docstrings_with_format = df.loc[df['docstringFormat'].isin(array)]\n",
    "docstrings_with_format.describe()\n",
    "pd.value_counts(df[\"docstringFormat\"])\n",
    "format_df = pd.value_counts(df[\"docstringFormat\"]).plot.bar()\n",
    "\n",
    "\n",
    "first_90_percent_with_format = docstrings_with_format.loc[docstrings_with_format.numberOfLines <= docstrings_with_format[\"numberOfLines\"].quantile(0.90)]\n",
    "\n",
    "pd.value_counts(first_90_percent_with_format[\"numberOfLines\"]).plot.bar()\n",
    "plt.xlabel(\"Number of Lines\")\n",
    "plt.ylabel(\"Amount of Docstrings\")\n",
    "plt.savefig(\"length_distribution_parsable_with_format.png\")\n",
    "\n",
    "#percentage of formatted docstrings\n",
    "len(docstrings_with_format.index) / len(df.index) * 100\n",
    "oneliner_with_format = docstrings_with_format[docstrings_with_format.numberOfLines == 1]\n",
    "len(oneliner_with_format.index)\n",
    "\n",
    "multiline_format_docstrings = docstrings_with_format[docstrings_with_format.numberOfLines > 1];\n",
    "multiline_docstrings = df[df.numberOfLines > 1]\n",
    "\n"
   ],
   "metadata": {
    "collapsed": false,
    "pycharm": {
     "name": "#%%\n",
     "is_executing": false
    }
   }
  },
  {
   "cell_type": "markdown",
   "source": [
    "<h3>Distribution of Line Count</h3>\n"
   ],
   "metadata": {
    "collapsed": false,
    "pycharm": {
     "name": "#%% md\n"
    }
   }
  },
  {
   "cell_type": "code",
   "execution_count": 29,
   "outputs": [
    {
     "data": {
      "text/plain": "<matplotlib.axes._subplots.AxesSubplot at 0x1e0f6e5f080>"
     },
     "metadata": {},
     "output_type": "execute_result",
     "execution_count": 29
    },
    {
     "data": {
      "text/plain": "Text(0.5, 0, 'Number of Lines')"
     },
     "metadata": {},
     "output_type": "execute_result",
     "execution_count": 29
    },
    {
     "data": {
      "text/plain": "Text(0, 0.5, 'Amount of Docstrings')"
     },
     "metadata": {},
     "output_type": "execute_result",
     "execution_count": 29
    },
    {
     "data": {
      "text/plain": "<Figure size 432x288 with 1 Axes>",
      "image/png": "[encoded data removed]"
     },
     "metadata": {
      "needs_background": "light"
     },
     "output_type": "display_data"
    }
   ],
   "source": [
    "first_975_percent = df.loc[(df.numberOfLines <= df[\"numberOfLines\"].quantile(0.975)) & (df.numberOfLines > 0)]\n",
    "\n",
    "pd.value_counts(first_975_percent[\"numberOfLines\"]).plot.bar()\n",
    "plt.xlabel(\"Number of Lines\")\n",
    "plt.ylabel(\"Amount of Docstrings\")\n",
    "plt.savefig(\"length_distribution_parsable_docstrings.png\")\n"
   ],
   "metadata": {
    "collapsed": false,
    "pycharm": {
     "name": "#%%\n",
     "is_executing": false
    }
   }
  },
  {
   "cell_type": "markdown",
   "source": [
    "<h3>Plot of all docstrings and docstrings that follow a particular format notation:</h3>\n"
   ],
   "metadata": {
    "collapsed": false
   }
  },
  {
   "cell_type": "code",
   "execution_count": 30,
   "outputs": [
    {
     "data": {
      "text/plain": "115733"
     },
     "metadata": {},
     "output_type": "execute_result",
     "execution_count": 30
    },
    {
     "data": {
      "text/plain": "20727"
     },
     "metadata": {},
     "output_type": "execute_result",
     "execution_count": 30
    },
    {
     "data": {
      "text/plain": "<BarContainer object of 2 artists>"
     },
     "metadata": {},
     "output_type": "execute_result",
     "execution_count": 30
    },
    {
     "data": {
      "text/plain": "<Figure size 432x288 with 1 Axes>",
      "image/png": "[encoded data removed]"
     },
     "metadata": {
      "needs_background": "light"
     },
     "output_type": "display_data"
    }
   ],
   "source": [
    "all_docstrings_count = len(df.index)\n",
    "docstring_format_count = len(docstrings_with_format.index)\n",
    "all_docstrings_count\n",
    "docstring_format_count\n",
    "plt.bar([\"All Docstrings\", \"Docstrings following a style format\"], [all_docstrings_count, docstring_format_count])\n",
    "\n"
   ],
   "metadata": {
    "collapsed": false,
    "pycharm": {
     "name": "#%%\n",
     "is_executing": false
    }
   }
  },
  {
   "cell_type": "markdown",
   "source": [
    "<h3>Analysis of multi-line docstrings</h3>\n"
   ],
   "metadata": {
    "collapsed": false,
    "pycharm": {
     "name": "#%% md\n"
    }
   }
  },
  {
   "cell_type": "code",
   "execution_count": 31,
   "outputs": [
    {
     "data": {
      "text/plain": "20516"
     },
     "metadata": {},
     "output_type": "execute_result",
     "execution_count": 31
    },
    {
     "data": {
      "text/plain": "49816"
     },
     "metadata": {},
     "output_type": "execute_result",
     "execution_count": 31
    },
    {
     "data": {
      "text/plain": "41.18355548418179"
     },
     "metadata": {},
     "output_type": "execute_result",
     "execution_count": 31
    }
   ],
   "source": [
    "\n",
    "#Number of multi-line docstrings, total and with format:\n",
    "len(multiline_format_docstrings.index)\n",
    "len(multiline_docstrings.index)\n",
    "\n",
    "#Percentage of docstrings with format in multi-line docstrings:\n",
    "len(multiline_format_docstrings) / len(multiline_docstrings) * 100\n",
    "\n",
    "\n",
    "\n",
    "\n",
    "\n",
    "\n"
   ],
   "metadata": {
    "collapsed": false,
    "pycharm": {
     "name": "#%%\n",
     "is_executing": false
    }
   }
  },
  {
   "cell_type": "markdown",
   "source": [
    "<h3>Distribution of docstrings that follow the notation and the structure of a particular format</h3>\n"
   ],
   "metadata": {
    "collapsed": false,
    "pycharm": {
     "name": "#%% md\n"
    }
   }
  },
  {
   "cell_type": "code",
   "execution_count": 40,
   "outputs": [
    {
     "data": {
      "text/plain": "                  argumentsList  containerType  content  description  \\\ndocstringFormat                                                        \nEPYTEXT                      72             72       72           72   \nGOOGLESTYLE                7638           7638     7638         7638   \nNUMPYDOC                   4481           4481     4481         4481   \nRESTRUCTUREDTEXT           8536           8536     8536         8536   \n\n                  hasArgumentComponent  hasDescription  hasRaiseComponent  \\\ndocstringFormat                                                             \nEPYTEXT                             72              72                 72   \nGOOGLESTYLE                       7638            7638               7638   \nNUMPYDOC                          4481            4481               4481   \nRESTRUCTUREDTEXT                  8536            8536               8536   \n\n                  hasReturnComponent  hasShortSummary  numberOfLines  \\\ndocstringFormat                                                        \nEPYTEXT                           72               72             72   \nGOOGLESTYLE                     7638             7638           7638   \nNUMPYDOC                        4481             4481           4481   \nRESTRUCTUREDTEXT                8536             8536           8536   \n\n                  raisesList  relativePath  returnsList  shortSummary  \\\ndocstringFormat                                                         \nEPYTEXT                   72            72           72            72   \nGOOGLESTYLE             7638          7638         7638          7638   \nNUMPYDOC                4481          4481         4481          4481   \nRESTRUCTUREDTEXT        8536          8536         8536          8536   \n\n                  sourceProject   Key  \ndocstringFormat                        \nEPYTEXT                      72    72  \nGOOGLESTYLE                7638  7638  \nNUMPYDOC                   4481  4481  \nRESTRUCTUREDTEXT           8536  8536  ",
      "text/html": "<div>\n<style scoped>\n    .dataframe tbody tr th:only-of-type {\n        vertical-align: middle;\n    }\n\n    .dataframe tbody tr th {\n        vertical-align: top;\n    }\n\n    .dataframe thead th {\n        text-align: right;\n    }\n</style>\n<table border=\"1\" class=\"dataframe\">\n  <thead>\n    <tr style=\"text-align: right;\">\n      <th></th>\n      <th>argumentsList</th>\n      <th>containerType</th>\n      <th>content</th>\n      <th>description</th>\n      <th>hasArgumentComponent</th>\n      <th>hasDescription</th>\n      <th>hasRaiseComponent</th>\n      <th>hasReturnComponent</th>\n      <th>hasShortSummary</th>\n      <th>numberOfLines</th>\n      <th>raisesList</th>\n      <th>relativePath</th>\n      <th>returnsList</th>\n      <th>shortSummary</th>\n      <th>sourceProject</th>\n      <th>Key</th>\n    </tr>\n    <tr>\n      <th>docstringFormat</th>\n      <th></th>\n      <th></th>\n      <th></th>\n      <th></th>\n      <th></th>\n      <th></th>\n      <th></th>\n      <th></th>\n      <th></th>\n      <th></th>\n      <th></th>\n      <th></th>\n      <th></th>\n      <th></th>\n      <th></th>\n      <th></th>\n    </tr>\n  </thead>\n  <tbody>\n    <tr>\n      <th>EPYTEXT</th>\n      <td>72</td>\n      <td>72</td>\n      <td>72</td>\n      <td>72</td>\n      <td>72</td>\n      <td>72</td>\n      <td>72</td>\n      <td>72</td>\n      <td>72</td>\n      <td>72</td>\n      <td>72</td>\n      <td>72</td>\n      <td>72</td>\n      <td>72</td>\n      <td>72</td>\n      <td>72</td>\n    </tr>\n    <tr>\n      <th>GOOGLESTYLE</th>\n      <td>7638</td>\n      <td>7638</td>\n      <td>7638</td>\n      <td>7638</td>\n      <td>7638</td>\n      <td>7638</td>\n      <td>7638</td>\n      <td>7638</td>\n      <td>7638</td>\n      <td>7638</td>\n      <td>7638</td>\n      <td>7638</td>\n      <td>7638</td>\n      <td>7638</td>\n      <td>7638</td>\n      <td>7638</td>\n    </tr>\n    <tr>\n      <th>NUMPYDOC</th>\n      <td>4481</td>\n      <td>4481</td>\n      <td>4481</td>\n      <td>4481</td>\n      <td>4481</td>\n      <td>4481</td>\n      <td>4481</td>\n      <td>4481</td>\n      <td>4481</td>\n      <td>4481</td>\n      <td>4481</td>\n      <td>4481</td>\n      <td>4481</td>\n      <td>4481</td>\n      <td>4481</td>\n      <td>4481</td>\n    </tr>\n    <tr>\n      <th>RESTRUCTUREDTEXT</th>\n      <td>8536</td>\n      <td>8536</td>\n      <td>8536</td>\n      <td>8536</td>\n      <td>8536</td>\n      <td>8536</td>\n      <td>8536</td>\n      <td>8536</td>\n      <td>8536</td>\n      <td>8536</td>\n      <td>8536</td>\n      <td>8536</td>\n      <td>8536</td>\n      <td>8536</td>\n      <td>8536</td>\n      <td>8536</td>\n    </tr>\n  </tbody>\n</table>\n</div>"
     },
     "metadata": {},
     "output_type": "execute_result",
     "execution_count": 40
    },
    {
     "data": {
      "text/plain": "                  argumentsList  containerType  content  description  \\\ndocstringFormat                                                        \nEPYTEXT                      16             16       16           16   \nGOOGLESTYLE                3981           3981     3981         3981   \nNUMPYDOC                   2100           2100     2100         2100   \nRESTRUCTUREDTEXT           1220           1220     1220         1220   \n\n                  hasArgumentComponent  hasDescription  hasRaiseComponent  \\\ndocstringFormat                                                             \nEPYTEXT                             16              16                 16   \nGOOGLESTYLE                       3981            3981               3981   \nNUMPYDOC                          2100            2100               2100   \nRESTRUCTUREDTEXT                  1220            1220               1220   \n\n                  hasReturnComponent  hasShortSummary  numberOfLines  \\\ndocstringFormat                                                        \nEPYTEXT                           16               16             16   \nGOOGLESTYLE                     3981             3981           3981   \nNUMPYDOC                        2100             2100           2100   \nRESTRUCTUREDTEXT                1220             1220           1220   \n\n                  raisesList  relativePath  returnsList  shortSummary  \\\ndocstringFormat                                                         \nEPYTEXT                   16            16           16            16   \nGOOGLESTYLE             3981          3981         3981          3981   \nNUMPYDOC                2100          2100         2100          2100   \nRESTRUCTUREDTEXT        1220          1220         1220          1220   \n\n                  sourceProject   Key  \ndocstringFormat                        \nEPYTEXT                      16    16  \nGOOGLESTYLE                3981  3981  \nNUMPYDOC                   2100  2100  \nRESTRUCTUREDTEXT           1220  1220  ",
      "text/html": "<div>\n<style scoped>\n    .dataframe tbody tr th:only-of-type {\n        vertical-align: middle;\n    }\n\n    .dataframe tbody tr th {\n        vertical-align: top;\n    }\n\n    .dataframe thead th {\n        text-align: right;\n    }\n</style>\n<table border=\"1\" class=\"dataframe\">\n  <thead>\n    <tr style=\"text-align: right;\">\n      <th></th>\n      <th>argumentsList</th>\n      <th>containerType</th>\n      <th>content</th>\n      <th>description</th>\n      <th>hasArgumentComponent</th>\n      <th>hasDescription</th>\n      <th>hasRaiseComponent</th>\n      <th>hasReturnComponent</th>\n      <th>hasShortSummary</th>\n      <th>numberOfLines</th>\n      <th>raisesList</th>\n      <th>relativePath</th>\n      <th>returnsList</th>\n      <th>shortSummary</th>\n      <th>sourceProject</th>\n      <th>Key</th>\n    </tr>\n    <tr>\n      <th>docstringFormat</th>\n      <th></th>\n      <th></th>\n      <th></th>\n      <th></th>\n      <th></th>\n      <th></th>\n      <th></th>\n      <th></th>\n      <th></th>\n      <th></th>\n      <th></th>\n      <th></th>\n      <th></th>\n      <th></th>\n      <th></th>\n      <th></th>\n    </tr>\n  </thead>\n  <tbody>\n    <tr>\n      <th>EPYTEXT</th>\n      <td>16</td>\n      <td>16</td>\n      <td>16</td>\n      <td>16</td>\n      <td>16</td>\n      <td>16</td>\n      <td>16</td>\n      <td>16</td>\n      <td>16</td>\n      <td>16</td>\n      <td>16</td>\n      <td>16</td>\n      <td>16</td>\n      <td>16</td>\n      <td>16</td>\n      <td>16</td>\n    </tr>\n    <tr>\n      <th>GOOGLESTYLE</th>\n      <td>3981</td>\n      <td>3981</td>\n      <td>3981</td>\n      <td>3981</td>\n      <td>3981</td>\n      <td>3981</td>\n      <td>3981</td>\n      <td>3981</td>\n      <td>3981</td>\n      <td>3981</td>\n      <td>3981</td>\n      <td>3981</td>\n      <td>3981</td>\n      <td>3981</td>\n      <td>3981</td>\n      <td>3981</td>\n    </tr>\n    <tr>\n      <th>NUMPYDOC</th>\n      <td>2100</td>\n      <td>2100</td>\n      <td>2100</td>\n      <td>2100</td>\n      <td>2100</td>\n      <td>2100</td>\n      <td>2100</td>\n      <td>2100</td>\n      <td>2100</td>\n      <td>2100</td>\n      <td>2100</td>\n      <td>2100</td>\n      <td>2100</td>\n      <td>2100</td>\n      <td>2100</td>\n      <td>2100</td>\n    </tr>\n    <tr>\n      <th>RESTRUCTUREDTEXT</th>\n      <td>1220</td>\n      <td>1220</td>\n      <td>1220</td>\n      <td>1220</td>\n      <td>1220</td>\n      <td>1220</td>\n      <td>1220</td>\n      <td>1220</td>\n      <td>1220</td>\n      <td>1220</td>\n      <td>1220</td>\n      <td>1220</td>\n      <td>1220</td>\n      <td>1220</td>\n      <td>1220</td>\n      <td>1220</td>\n    </tr>\n  </tbody>\n</table>\n</div>"
     },
     "metadata": {},
     "output_type": "execute_result",
     "execution_count": 40
    },
    {
     "name": "stderr",
     "text": [
      "C:\\Users\\matej\\Anaconda3\\lib\\site-packages\\ipykernel_launcher.py:7: SettingWithCopyWarning: \nA value is trying to be set on a copy of a slice from a DataFrame.\nTry using .loc[row_indexer,col_indexer] = value instead\n\nSee the caveats in the documentation: http://pandas.pydata.org/pandas-docs/stable/indexing.html#indexing-view-versus-copy\n  import sys\nC:\\Users\\matej\\Anaconda3\\lib\\site-packages\\ipykernel_launcher.py:8: SettingWithCopyWarning: \nA value is trying to be set on a copy of a slice from a DataFrame.\nTry using .loc[row_indexer,col_indexer] = value instead\n\nSee the caveats in the documentation: http://pandas.pydata.org/pandas-docs/stable/indexing.html#indexing-view-versus-copy\n  \n"
     ],
     "output_type": "stream"
    }
   ],
   "source": [
    "structured_docstrings_with_format = docstrings_with_format.loc[(docstrings_with_format['hasArgumentComponent'] == True) & (docstrings_with_format['hasReturnComponent'] == True) & (docstrings_with_format['hasShortSummary'] == True)]\n",
    "docstrings_with_format.groupby('docstringFormat').count()\n",
    "structured_docstrings_with_format.groupby('docstringFormat').count()\n",
    "\n",
    "#Create data frames, which only contain information about docstring format:\n",
    "\n",
    "docstrings_with_format['Key'] = 'notStructured'\n",
    "structured_docstrings_with_format['Key'] = 'structured'\n",
    "\n",
    "all_format_docstrings = pd.concat([docstrings_with_format, structured_docstrings_with_format], keys=['structured', 'notStructured'])\n",
    "all_format_docstrings_grouped = all_format_docstrings.groupby(['docstringFormat', 'Key'])\n",
    "\n",
    "#all_format_docstrings_grouped.describe()\n",
    "\n",
    "#DFGPlot = all_format_docstrings_grouped[\"docstringFormat\"].count().unstack('Key').plot(kind='bar')\n",
    "\n",
    "\n",
    "\n"
   ],
   "metadata": {
    "collapsed": false,
    "pycharm": {
     "name": "#%%\n",
     "is_executing": false
    }
   }
  },
  {
   "cell_type": "markdown",
   "source": [
    "<h5>method to calculate percentage</h5>\n"
   ],
   "metadata": {
    "collapsed": false,
    "pycharm": {
     "name": "#%% md\n"
    }
   }
  },
  {
   "cell_type": "code",
   "execution_count": 33,
   "outputs": [],
   "source": [
    "def calc_percentage(row):\n",
    "    \n",
    "    return row['docstrings_with_format']/row['all_docstrings'] * 100\n"
   ],
   "metadata": {
    "collapsed": false,
    "pycharm": {
     "name": "#%%\n",
     "is_executing": false
    }
   }
  },
  {
   "cell_type": "markdown",
   "source": [
    "<h3>Projects that contain styled docstrings</h3>\n"
   ],
   "metadata": {
    "collapsed": false,
    "pycharm": {
     "name": "#%% md\n"
    }
   }
  },
  {
   "cell_type": "code",
   "execution_count": 38,
   "outputs": [
    {
     "data": {
      "text/plain": "                                 sourceProject  all_docstrings\n0                               saltstack\\salt           12261\n1                            tensorflow\\models            3496\n2                               python\\cpython            3472\n3                              ansible\\ansible            3299\n4                                django\\django            3059\n5                                  pypa\\pipenv            2161\n6                        matplotlib\\matplotlib            2002\n7                            pandas-dev\\pandas            1939\n8                                XX-net\\XX-Net            1765\n9                    scikit-learn\\scikit-learn            1461\n10               home-assistant\\home-assistant            1174\n11                              apache\\airflow             987\n12                    RaRe-Technologies\\gensim             947\n13                            getsentry\\sentry             909\n14                          tensorflow\\magenta             795\n15                             ipython\\ipython             670\n16                                 bokeh\\bokeh             581\n17                             certbot\\certbot             558\n18                            keras-team\\keras             548\n19                                   kivy\\kivy             525\n20                                 zulip\\zulip             467\n21                        sqlmapproject\\sqlmap             451\n22                          tornadoweb\\tornado             380\n23                               spotify\\luigi             375\n24                         apachecn\\AiLearning             372\n25                               celery\\celery             302\n26                encode\\django-rest-framework             299\n27                       reddit-archive\\reddit             281\n28                         mitmproxy\\mitmproxy             263\n29  donnemartin\\data-science-ipython-notebooks             231\n..                                         ...             ...\n54                            getredash\\redash              63\n55                         ytdl-org\\youtube-dl              63\n56                        geekcomputers\\Python              62\n57                             chubin\\cheat.sh              61\n58                       localstack\\localstack              54\n59                        littlecodersh\\ItChat              50\n60                        jakubroztocil\\httpie              46\n61                           StevenBlack\\hosts              41\n62                              binux\\pyspider              39\n63                           cool-RR\\PySnooper              38\n64                                nvbn\\thefuck              36\n65                        faif\\python-patterns              35\n66                               fabric\\fabric              35\n67                                   tqdm\\tqdm              28\n68                             soimort\\you-get              26\n69                             locustio\\locust              24\n70             eriklindernoren\\ML-From-Scratch              23\n71                  kennethreitz\\requests-html              22\n72                        google-research\\bert              16\n73    machinelearningmindset\\TensorFlow-Course              15\n74                   ageitgey\\face_recognition              14\n75            donnemartin\\system-design-primer              12\n76                              wting\\autojump              11\n77                                 fxsjy\\jieba               9\n78                         jwilder\\nginx-proxy               8\n79                            trailofbits\\algo               4\n80                   wangshub\\wechat_jump_game               1\n81                     public-apis\\public-apis               1\n82       minimaxir\\big-list-of-naughty-strings               1\n83      drduh\\macOS-Security-and-Privacy-Guide               1\n\n[84 rows x 2 columns]",
      "text/html": "<div>\n<style scoped>\n    .dataframe tbody tr th:only-of-type {\n        vertical-align: middle;\n    }\n\n    .dataframe tbody tr th {\n        vertical-align: top;\n    }\n\n    .dataframe thead th {\n        text-align: right;\n    }\n</style>\n<table border=\"1\" class=\"dataframe\">\n  <thead>\n    <tr style=\"text-align: right;\">\n      <th></th>\n      <th>sourceProject</th>\n      <th>all_docstrings</th>\n    </tr>\n  </thead>\n  <tbody>\n    <tr>\n      <th>0</th>\n      <td>saltstack\\salt</td>\n      <td>12261</td>\n    </tr>\n    <tr>\n      <th>1</th>\n      <td>tensorflow\\models</td>\n      <td>3496</td>\n    </tr>\n    <tr>\n      <th>2</th>\n      <td>python\\cpython</td>\n      <td>3472</td>\n    </tr>\n    <tr>\n      <th>3</th>\n      <td>ansible\\ansible</td>\n      <td>3299</td>\n    </tr>\n    <tr>\n      <th>4</th>\n      <td>django\\django</td>\n      <td>3059</td>\n    </tr>\n    <tr>\n      <th>5</th>\n      <td>pypa\\pipenv</td>\n      <td>2161</td>\n    </tr>\n    <tr>\n      <th>6</th>\n      <td>matplotlib\\matplotlib</td>\n      <td>2002</td>\n    </tr>\n    <tr>\n      <th>7</th>\n      <td>pandas-dev\\pandas</td>\n      <td>1939</td>\n    </tr>\n    <tr>\n      <th>8</th>\n      <td>XX-net\\XX-Net</td>\n      <td>1765</td>\n    </tr>\n    <tr>\n      <th>9</th>\n      <td>scikit-learn\\scikit-learn</td>\n      <td>1461</td>\n    </tr>\n    <tr>\n      <th>10</th>\n      <td>home-assistant\\home-assistant</td>\n      <td>1174</td>\n    </tr>\n    <tr>\n      <th>11</th>\n      <td>apache\\airflow</td>\n      <td>987</td>\n    </tr>\n    <tr>\n      <th>12</th>\n      <td>RaRe-Technologies\\gensim</td>\n      <td>947</td>\n    </tr>\n    <tr>\n      <th>13</th>\n      <td>getsentry\\sentry</td>\n      <td>909</td>\n    </tr>\n    <tr>\n      <th>14</th>\n      <td>tensorflow\\magenta</td>\n      <td>795</td>\n    </tr>\n    <tr>\n      <th>15</th>\n      <td>ipython\\ipython</td>\n      <td>670</td>\n    </tr>\n    <tr>\n      <th>16</th>\n      <td>bokeh\\bokeh</td>\n      <td>581</td>\n    </tr>\n    <tr>\n      <th>17</th>\n      <td>certbot\\certbot</td>\n      <td>558</td>\n    </tr>\n    <tr>\n      <th>18</th>\n      <td>keras-team\\keras</td>\n      <td>548</td>\n    </tr>\n    <tr>\n      <th>19</th>\n      <td>kivy\\kivy</td>\n      <td>525</td>\n    </tr>\n    <tr>\n      <th>20</th>\n      <td>zulip\\zulip</td>\n      <td>467</td>\n    </tr>\n    <tr>\n      <th>21</th>\n      <td>sqlmapproject\\sqlmap</td>\n      <td>451</td>\n    </tr>\n    <tr>\n      <th>22</th>\n      <td>tornadoweb\\tornado</td>\n      <td>380</td>\n    </tr>\n    <tr>\n      <th>23</th>\n      <td>spotify\\luigi</td>\n      <td>375</td>\n    </tr>\n    <tr>\n      <th>24</th>\n      <td>apachecn\\AiLearning</td>\n      <td>372</td>\n    </tr>\n    <tr>\n      <th>25</th>\n      <td>celery\\celery</td>\n      <td>302</td>\n    </tr>\n    <tr>\n      <th>26</th>\n      <td>encode\\django-rest-framework</td>\n      <td>299</td>\n    </tr>\n    <tr>\n      <th>27</th>\n      <td>reddit-archive\\reddit</td>\n      <td>281</td>\n    </tr>\n    <tr>\n      <th>28</th>\n      <td>mitmproxy\\mitmproxy</td>\n      <td>263</td>\n    </tr>\n    <tr>\n      <th>29</th>\n      <td>donnemartin\\data-science-ipython-notebooks</td>\n      <td>231</td>\n    </tr>\n    <tr>\n      <th>...</th>\n      <td>...</td>\n      <td>...</td>\n    </tr>\n    <tr>\n      <th>54</th>\n      <td>getredash\\redash</td>\n      <td>63</td>\n    </tr>\n    <tr>\n      <th>55</th>\n      <td>ytdl-org\\youtube-dl</td>\n      <td>63</td>\n    </tr>\n    <tr>\n      <th>56</th>\n      <td>geekcomputers\\Python</td>\n      <td>62</td>\n    </tr>\n    <tr>\n      <th>57</th>\n      <td>chubin\\cheat.sh</td>\n      <td>61</td>\n    </tr>\n    <tr>\n      <th>58</th>\n      <td>localstack\\localstack</td>\n      <td>54</td>\n    </tr>\n    <tr>\n      <th>59</th>\n      <td>littlecodersh\\ItChat</td>\n      <td>50</td>\n    </tr>\n    <tr>\n      <th>60</th>\n      <td>jakubroztocil\\httpie</td>\n      <td>46</td>\n    </tr>\n    <tr>\n      <th>61</th>\n      <td>StevenBlack\\hosts</td>\n      <td>41</td>\n    </tr>\n    <tr>\n      <th>62</th>\n      <td>binux\\pyspider</td>\n      <td>39</td>\n    </tr>\n    <tr>\n      <th>63</th>\n      <td>cool-RR\\PySnooper</td>\n      <td>38</td>\n    </tr>\n    <tr>\n      <th>64</th>\n      <td>nvbn\\thefuck</td>\n      <td>36</td>\n    </tr>\n    <tr>\n      <th>65</th>\n      <td>faif\\python-patterns</td>\n      <td>35</td>\n    </tr>\n    <tr>\n      <th>66</th>\n      <td>fabric\\fabric</td>\n      <td>35</td>\n    </tr>\n    <tr>\n      <th>67</th>\n      <td>tqdm\\tqdm</td>\n      <td>28</td>\n    </tr>\n    <tr>\n      <th>68</th>\n      <td>soimort\\you-get</td>\n      <td>26</td>\n    </tr>\n    <tr>\n      <th>69</th>\n      <td>locustio\\locust</td>\n      <td>24</td>\n    </tr>\n    <tr>\n      <th>70</th>\n      <td>eriklindernoren\\ML-From-Scratch</td>\n      <td>23</td>\n    </tr>\n    <tr>\n      <th>71</th>\n      <td>kennethreitz\\requests-html</td>\n      <td>22</td>\n    </tr>\n    <tr>\n      <th>72</th>\n      <td>google-research\\bert</td>\n      <td>16</td>\n    </tr>\n    <tr>\n      <th>73</th>\n      <td>machinelearningmindset\\TensorFlow-Course</td>\n      <td>15</td>\n    </tr>\n    <tr>\n      <th>74</th>\n      <td>ageitgey\\face_recognition</td>\n      <td>14</td>\n    </tr>\n    <tr>\n      <th>75</th>\n      <td>donnemartin\\system-design-primer</td>\n      <td>12</td>\n    </tr>\n    <tr>\n      <th>76</th>\n      <td>wting\\autojump</td>\n      <td>11</td>\n    </tr>\n    <tr>\n      <th>77</th>\n      <td>fxsjy\\jieba</td>\n      <td>9</td>\n    </tr>\n    <tr>\n      <th>78</th>\n      <td>jwilder\\nginx-proxy</td>\n      <td>8</td>\n    </tr>\n    <tr>\n      <th>79</th>\n      <td>trailofbits\\algo</td>\n      <td>4</td>\n    </tr>\n    <tr>\n      <th>80</th>\n      <td>wangshub\\wechat_jump_game</td>\n      <td>1</td>\n    </tr>\n    <tr>\n      <th>81</th>\n      <td>public-apis\\public-apis</td>\n      <td>1</td>\n    </tr>\n    <tr>\n      <th>82</th>\n      <td>minimaxir\\big-list-of-naughty-strings</td>\n      <td>1</td>\n    </tr>\n    <tr>\n      <th>83</th>\n      <td>drduh\\macOS-Security-and-Privacy-Guide</td>\n      <td>1</td>\n    </tr>\n  </tbody>\n</table>\n<p>84 rows × 2 columns</p>\n</div>"
     },
     "metadata": {},
     "output_type": "execute_result",
     "execution_count": 38
    },
    {
     "data": {
      "text/plain": "                                 sourceProject  docstrings_with_format\n0                               saltstack\\salt                    3715\n1                            tensorflow\\models                    3332\n2                              ansible\\ansible                    2220\n3                            pandas-dev\\pandas                    1436\n4                    scikit-learn\\scikit-learn                    1246\n5                        matplotlib\\matplotlib                     886\n6                     RaRe-Technologies\\gensim                     797\n7                           tensorflow\\magenta                     767\n8                                  pypa\\pipenv                     756\n9                                XX-net\\XX-Net                     690\n10                              apache\\airflow                     682\n11                                 bokeh\\bokeh                     421\n12                             certbot\\certbot                     390\n13                         apachecn\\AiLearning                     311\n14                             ipython\\ipython                     211\n15                              python\\cpython                     205\n16                                   kivy\\kivy                     199\n17                            getsentry\\sentry                     195\n18                               celery\\celery                     172\n19                          tornadoweb\\tornado                     160\n20  donnemartin\\data-science-ipython-notebooks                     157\n21                          google\\python-fire                     117\n22                               pallets\\flask                     108\n23                               spotify\\luigi                      98\n24                    isocpp\\CppCoreGuidelines                      93\n25                             keon\\algorithms                      80\n26                         powerline\\powerline                      78\n27                        sqlmapproject\\sqlmap                      75\n28                          huge-success\\sanic                      72\n29                       reddit-archive\\reddit                      66\n..                                         ...                     ...\n43                               django\\django                      24\n44                                nvbn\\thefuck                      22\n45                               scrapy\\scrapy                      18\n46                      ycm-core\\YouCompleteMe                      16\n47                           nicolargo\\glances                      16\n48                        google-research\\bert                      16\n49                       localstack\\localstack                      15\n50                   ageitgey\\face_recognition                      14\n51                                   tqdm\\tqdm                      14\n52                        jakubroztocil\\httpie                      13\n53                          deepfakes\\faceswap                      13\n54    machinelearningmindset\\TensorFlow-Course                      13\n55                  facebookresearch\\Detectron                      12\n56                  kennethreitz\\requests-html                       7\n57                                   psf\\black                       6\n58                                python\\black                       6\n59                             soimort\\you-get                       6\n60                encode\\django-rest-framework                       5\n61                              Miserlou\\Zappa                       5\n62                              docker\\compose                       4\n63                         jwilder\\nginx-proxy                       3\n64                         ytdl-org\\youtube-dl                       3\n65                        geekcomputers\\Python                       3\n66                            keras-team\\keras                       2\n67                        faif\\python-patterns                       2\n68                             chubin\\cheat.sh                       1\n69                           cool-RR\\PySnooper                       1\n70                                  3b1b\\manim                       1\n71                        littlecodersh\\ItChat                       1\n72       minimaxir\\big-list-of-naughty-strings                       1\n\n[73 rows x 2 columns]",
      "text/html": "<div>\n<style scoped>\n    .dataframe tbody tr th:only-of-type {\n        vertical-align: middle;\n    }\n\n    .dataframe tbody tr th {\n        vertical-align: top;\n    }\n\n    .dataframe thead th {\n        text-align: right;\n    }\n</style>\n<table border=\"1\" class=\"dataframe\">\n  <thead>\n    <tr style=\"text-align: right;\">\n      <th></th>\n      <th>sourceProject</th>\n      <th>docstrings_with_format</th>\n    </tr>\n  </thead>\n  <tbody>\n    <tr>\n      <th>0</th>\n      <td>saltstack\\salt</td>\n      <td>3715</td>\n    </tr>\n    <tr>\n      <th>1</th>\n      <td>tensorflow\\models</td>\n      <td>3332</td>\n    </tr>\n    <tr>\n      <th>2</th>\n      <td>ansible\\ansible</td>\n      <td>2220</td>\n    </tr>\n    <tr>\n      <th>3</th>\n      <td>pandas-dev\\pandas</td>\n      <td>1436</td>\n    </tr>\n    <tr>\n      <th>4</th>\n      <td>scikit-learn\\scikit-learn</td>\n      <td>1246</td>\n    </tr>\n    <tr>\n      <th>5</th>\n      <td>matplotlib\\matplotlib</td>\n      <td>886</td>\n    </tr>\n    <tr>\n      <th>6</th>\n      <td>RaRe-Technologies\\gensim</td>\n      <td>797</td>\n    </tr>\n    <tr>\n      <th>7</th>\n      <td>tensorflow\\magenta</td>\n      <td>767</td>\n    </tr>\n    <tr>\n      <th>8</th>\n      <td>pypa\\pipenv</td>\n      <td>756</td>\n    </tr>\n    <tr>\n      <th>9</th>\n      <td>XX-net\\XX-Net</td>\n      <td>690</td>\n    </tr>\n    <tr>\n      <th>10</th>\n      <td>apache\\airflow</td>\n      <td>682</td>\n    </tr>\n    <tr>\n      <th>11</th>\n      <td>bokeh\\bokeh</td>\n      <td>421</td>\n    </tr>\n    <tr>\n      <th>12</th>\n      <td>certbot\\certbot</td>\n      <td>390</td>\n    </tr>\n    <tr>\n      <th>13</th>\n      <td>apachecn\\AiLearning</td>\n      <td>311</td>\n    </tr>\n    <tr>\n      <th>14</th>\n      <td>ipython\\ipython</td>\n      <td>211</td>\n    </tr>\n    <tr>\n      <th>15</th>\n      <td>python\\cpython</td>\n      <td>205</td>\n    </tr>\n    <tr>\n      <th>16</th>\n      <td>kivy\\kivy</td>\n      <td>199</td>\n    </tr>\n    <tr>\n      <th>17</th>\n      <td>getsentry\\sentry</td>\n      <td>195</td>\n    </tr>\n    <tr>\n      <th>18</th>\n      <td>celery\\celery</td>\n      <td>172</td>\n    </tr>\n    <tr>\n      <th>19</th>\n      <td>tornadoweb\\tornado</td>\n      <td>160</td>\n    </tr>\n    <tr>\n      <th>20</th>\n      <td>donnemartin\\data-science-ipython-notebooks</td>\n      <td>157</td>\n    </tr>\n    <tr>\n      <th>21</th>\n      <td>google\\python-fire</td>\n      <td>117</td>\n    </tr>\n    <tr>\n      <th>22</th>\n      <td>pallets\\flask</td>\n      <td>108</td>\n    </tr>\n    <tr>\n      <th>23</th>\n      <td>spotify\\luigi</td>\n      <td>98</td>\n    </tr>\n    <tr>\n      <th>24</th>\n      <td>isocpp\\CppCoreGuidelines</td>\n      <td>93</td>\n    </tr>\n    <tr>\n      <th>25</th>\n      <td>keon\\algorithms</td>\n      <td>80</td>\n    </tr>\n    <tr>\n      <th>26</th>\n      <td>powerline\\powerline</td>\n      <td>78</td>\n    </tr>\n    <tr>\n      <th>27</th>\n      <td>sqlmapproject\\sqlmap</td>\n      <td>75</td>\n    </tr>\n    <tr>\n      <th>28</th>\n      <td>huge-success\\sanic</td>\n      <td>72</td>\n    </tr>\n    <tr>\n      <th>29</th>\n      <td>reddit-archive\\reddit</td>\n      <td>66</td>\n    </tr>\n    <tr>\n      <th>...</th>\n      <td>...</td>\n      <td>...</td>\n    </tr>\n    <tr>\n      <th>43</th>\n      <td>django\\django</td>\n      <td>24</td>\n    </tr>\n    <tr>\n      <th>44</th>\n      <td>nvbn\\thefuck</td>\n      <td>22</td>\n    </tr>\n    <tr>\n      <th>45</th>\n      <td>scrapy\\scrapy</td>\n      <td>18</td>\n    </tr>\n    <tr>\n      <th>46</th>\n      <td>ycm-core\\YouCompleteMe</td>\n      <td>16</td>\n    </tr>\n    <tr>\n      <th>47</th>\n      <td>nicolargo\\glances</td>\n      <td>16</td>\n    </tr>\n    <tr>\n      <th>48</th>\n      <td>google-research\\bert</td>\n      <td>16</td>\n    </tr>\n    <tr>\n      <th>49</th>\n      <td>localstack\\localstack</td>\n      <td>15</td>\n    </tr>\n    <tr>\n      <th>50</th>\n      <td>ageitgey\\face_recognition</td>\n      <td>14</td>\n    </tr>\n    <tr>\n      <th>51</th>\n      <td>tqdm\\tqdm</td>\n      <td>14</td>\n    </tr>\n    <tr>\n      <th>52</th>\n      <td>jakubroztocil\\httpie</td>\n      <td>13</td>\n    </tr>\n    <tr>\n      <th>53</th>\n      <td>deepfakes\\faceswap</td>\n      <td>13</td>\n    </tr>\n    <tr>\n      <th>54</th>\n      <td>machinelearningmindset\\TensorFlow-Course</td>\n      <td>13</td>\n    </tr>\n    <tr>\n      <th>55</th>\n      <td>facebookresearch\\Detectron</td>\n      <td>12</td>\n    </tr>\n    <tr>\n      <th>56</th>\n      <td>kennethreitz\\requests-html</td>\n      <td>7</td>\n    </tr>\n    <tr>\n      <th>57</th>\n      <td>psf\\black</td>\n      <td>6</td>\n    </tr>\n    <tr>\n      <th>58</th>\n      <td>python\\black</td>\n      <td>6</td>\n    </tr>\n    <tr>\n      <th>59</th>\n      <td>soimort\\you-get</td>\n      <td>6</td>\n    </tr>\n    <tr>\n      <th>60</th>\n      <td>encode\\django-rest-framework</td>\n      <td>5</td>\n    </tr>\n    <tr>\n      <th>61</th>\n      <td>Miserlou\\Zappa</td>\n      <td>5</td>\n    </tr>\n    <tr>\n      <th>62</th>\n      <td>docker\\compose</td>\n      <td>4</td>\n    </tr>\n    <tr>\n      <th>63</th>\n      <td>jwilder\\nginx-proxy</td>\n      <td>3</td>\n    </tr>\n    <tr>\n      <th>64</th>\n      <td>ytdl-org\\youtube-dl</td>\n      <td>3</td>\n    </tr>\n    <tr>\n      <th>65</th>\n      <td>geekcomputers\\Python</td>\n      <td>3</td>\n    </tr>\n    <tr>\n      <th>66</th>\n      <td>keras-team\\keras</td>\n      <td>2</td>\n    </tr>\n    <tr>\n      <th>67</th>\n      <td>faif\\python-patterns</td>\n      <td>2</td>\n    </tr>\n    <tr>\n      <th>68</th>\n      <td>chubin\\cheat.sh</td>\n      <td>1</td>\n    </tr>\n    <tr>\n      <th>69</th>\n      <td>cool-RR\\PySnooper</td>\n      <td>1</td>\n    </tr>\n    <tr>\n      <th>70</th>\n      <td>3b1b\\manim</td>\n      <td>1</td>\n    </tr>\n    <tr>\n      <th>71</th>\n      <td>littlecodersh\\ItChat</td>\n      <td>1</td>\n    </tr>\n    <tr>\n      <th>72</th>\n      <td>minimaxir\\big-list-of-naughty-strings</td>\n      <td>1</td>\n    </tr>\n  </tbody>\n</table>\n<p>73 rows × 2 columns</p>\n</div>"
     },
     "metadata": {},
     "output_type": "execute_result",
     "execution_count": 38
    },
    {
     "data": {
      "text/plain": "0      30.299323\n1      95.308924\n2       5.904378\n3      67.293119\n4       0.784570\n5      34.983804\n6      44.255744\n7      74.058793\n8      39.093484\n9      85.284052\n10      2.470187\n11     69.098278\n12     84.160507\n13     21.452145\n14     96.477987\n15     31.492537\n16     72.461274\n17     69.892473\n18      0.364964\n19     37.904762\n20      5.139186\n21     16.629712\n22     42.105263\n23     26.133333\n24     83.602151\n25     56.953642\n26      1.672241\n27     23.487544\n28     24.714829\n29     67.965368\n         ...    \n43      6.000000\n44      6.000000\n45     96.875000\n46     75.789474\n47      5.617978\n48      4.597701\n49      1.204819\n50     38.271605\n51     53.731343\n52     24.242424\n53     50.793651\n54      4.761905\n55      4.838710\n56      1.639344\n57     27.777778\n58      2.000000\n59     28.260870\n60     95.121951\n61      2.631579\n62     61.111111\n63      5.714286\n64     80.000000\n65     50.000000\n66     23.076923\n67     31.818182\n68    100.000000\n69     86.666667\n70    100.000000\n71     37.500000\n72    100.000000\nName: format_percentage, Length: 73, dtype: float64"
     },
     "metadata": {},
     "output_type": "execute_result",
     "execution_count": 38
    },
    {
     "data": {
      "text/plain": "       all_docstrings  docstrings_with_format  format_percentage\ncount       73.000000               73.000000          73.000000\nmean       678.136986              281.041096          41.400560\nstd       1611.500313              666.349684          32.259759\nmin          1.000000                1.000000           0.364964\n25%         63.000000               13.000000           8.256881\n50%        138.000000               36.000000          37.500000\n75%        548.000000              172.000000          67.965368\nmax      12261.000000             3715.000000         100.000000",
      "text/html": "<div>\n<style scoped>\n    .dataframe tbody tr th:only-of-type {\n        vertical-align: middle;\n    }\n\n    .dataframe tbody tr th {\n        vertical-align: top;\n    }\n\n    .dataframe thead th {\n        text-align: right;\n    }\n</style>\n<table border=\"1\" class=\"dataframe\">\n  <thead>\n    <tr style=\"text-align: right;\">\n      <th></th>\n      <th>all_docstrings</th>\n      <th>docstrings_with_format</th>\n      <th>format_percentage</th>\n    </tr>\n  </thead>\n  <tbody>\n    <tr>\n      <th>count</th>\n      <td>73.000000</td>\n      <td>73.000000</td>\n      <td>73.000000</td>\n    </tr>\n    <tr>\n      <th>mean</th>\n      <td>678.136986</td>\n      <td>281.041096</td>\n      <td>41.400560</td>\n    </tr>\n    <tr>\n      <th>std</th>\n      <td>1611.500313</td>\n      <td>666.349684</td>\n      <td>32.259759</td>\n    </tr>\n    <tr>\n      <th>min</th>\n      <td>1.000000</td>\n      <td>1.000000</td>\n      <td>0.364964</td>\n    </tr>\n    <tr>\n      <th>25%</th>\n      <td>63.000000</td>\n      <td>13.000000</td>\n      <td>8.256881</td>\n    </tr>\n    <tr>\n      <th>50%</th>\n      <td>138.000000</td>\n      <td>36.000000</td>\n      <td>37.500000</td>\n    </tr>\n    <tr>\n      <th>75%</th>\n      <td>548.000000</td>\n      <td>172.000000</td>\n      <td>67.965368</td>\n    </tr>\n    <tr>\n      <th>max</th>\n      <td>12261.000000</td>\n      <td>3715.000000</td>\n      <td>100.000000</td>\n    </tr>\n  </tbody>\n</table>\n</div>"
     },
     "metadata": {},
     "output_type": "execute_result",
     "execution_count": 38
    },
    {
     "data": {
      "text/plain": "{'whiskers': [<matplotlib.lines.Line2D at 0x1e0f7cc6c88>,\n  <matplotlib.lines.Line2D at 0x1e0f7cc6ba8>],\n 'caps': [<matplotlib.lines.Line2D at 0x1e0f7ce0198>,\n  <matplotlib.lines.Line2D at 0x1e0f7ce0b38>],\n 'boxes': [<matplotlib.lines.Line2D at 0x1e0f7cc65f8>],\n 'medians': [<matplotlib.lines.Line2D at 0x1e0f7ce0d30>],\n 'fliers': [<matplotlib.lines.Line2D at 0x1e0f7cfacc0>],\n 'means': []}"
     },
     "metadata": {},
     "output_type": "execute_result",
     "execution_count": 38
    },
    {
     "data": {
      "text/plain": "([<matplotlib.axis.YTick at 0x1e0f76b3c50>],\n <a list of 1 Text yticklabel objects>)"
     },
     "metadata": {},
     "output_type": "execute_result",
     "execution_count": 38
    },
    {
     "data": {
      "text/plain": "Text(0, 0.5, 'Formatted Docstrings per Project')"
     },
     "metadata": {},
     "output_type": "execute_result",
     "execution_count": 38
    },
    {
     "data": {
      "text/plain": "<Figure size 432x288 with 1 Axes>",
      "image/png": "[encoded data removed]"
     },
     "metadata": {
      "needs_background": "light"
     },
     "output_type": "display_data"
    }
   ],
   "source": [
    "projects_with_docstrings = pd.DataFrame(multiline_docstrings, columns=[\"sourceProject\"])\n",
    "\n",
    "docstrings_per_project = pd.DataFrame(pd.value_counts(projects_with_docstrings[\"sourceProject\"]).reset_index())\n",
    "docstrings_per_project.columns = ['sourceProject', 'all_docstrings']\n",
    "\n",
    "\n",
    "\n",
    "projects_and_formats = pd.DataFrame(multiline_format_docstrings, columns=[\"sourceProject\", \"docstringFormat\"])\n",
    "\n",
    "docstrings_with_format_per_project = pd.DataFrame(pd.value_counts(projects_and_formats[\"sourceProject\"]).reset_index())\n",
    "docstrings_with_format_per_project.columns = ['sourceProject', 'docstrings_with_format']\n",
    "\n",
    "grouped_projects = projects_and_formats.merge(docstrings_with_format_per_project).groupby(\"sourceProject\")\n",
    "\n",
    "projects_with_different_formats = grouped_projects.apply(lambda x: x['docstringFormat'].unique())\n",
    "docstrings_per_project\n",
    "pd.DataFrame(docstrings_with_format_per_project)\n",
    "\n",
    "\n",
    "\n",
    "merged_projects = docstrings_per_project.merge(docstrings_with_format_per_project)\n",
    "merged_projects['format_percentage'] = merged_projects.apply(lambda row: calc_percentage(row), axis=1)\n",
    "percentage_of_formats = merged_projects[\"format_percentage\"]\n",
    "percentage_of_formats\n",
    "merged_projects.describe()\n",
    "plt.boxplot(percentage_of_formats, vert=False)\n",
    "plt.yticks(np.arange(1),\"Formatted Docstrings per Project\")\n",
    "plt.ylabel(\"Formatted Docstrings per Project\")\n",
    "plt.savefig(\"boxplot_formatted_docstrings_per_project.png\")\n",
    "\n"
   ],
   "metadata": {
    "collapsed": false,
    "pycharm": {
     "name": "#%%\n",
     "is_executing": false
    }
   }
  },
  {
   "cell_type": "markdown",
   "source": [
    "<h3>Check validity of meta-model</h3>\n"
   ],
   "metadata": {
    "collapsed": false,
    "pycharm": {
     "name": "#%% md\n"
    }
   }
  },
  {
   "cell_type": "code",
   "execution_count": 37,
   "outputs": [
    {
     "data": {
      "text/plain": "20516"
     },
     "metadata": {},
     "output_type": "execute_result",
     "execution_count": 37
    },
    {
     "data": {
      "text/plain": "14395"
     },
     "metadata": {},
     "output_type": "execute_result",
     "execution_count": 37
    },
    {
     "data": {
      "text/plain": "14198"
     },
     "metadata": {},
     "output_type": "execute_result",
     "execution_count": 37
    },
    {
     "data": {
      "text/plain": "11754"
     },
     "metadata": {},
     "output_type": "execute_result",
     "execution_count": 37
    },
    {
     "data": {
      "text/plain": "1528"
     },
     "metadata": {},
     "output_type": "execute_result",
     "execution_count": 37
    },
    {
     "data": {
      "text/plain": "7.44784558393449"
     },
     "metadata": {},
     "output_type": "execute_result",
     "execution_count": 37
    },
    {
     "data": {
      "text/plain": "70.1647494638331"
     },
     "metadata": {},
     "output_type": "execute_result",
     "execution_count": 37
    },
    {
     "data": {
      "text/plain": "69.20452329888867"
     },
     "metadata": {},
     "output_type": "execute_result",
     "execution_count": 37
    },
    {
     "data": {
      "text/plain": "57.291869760187176"
     },
     "metadata": {},
     "output_type": "execute_result",
     "execution_count": 37
    },
    {
     "data": {
      "text/plain": "7.44784558393449"
     },
     "metadata": {},
     "output_type": "execute_result",
     "execution_count": 37
    },
    {
     "data": {
      "text/plain": "7317"
     },
     "metadata": {},
     "output_type": "execute_result",
     "execution_count": 37
    },
    {
     "data": {
      "text/plain": "       summary_percentage  argument_percentage  return_value_percentage  \\\ncount           73.000000            73.000000                73.000000   \nmean            64.161164            63.983619                50.056195   \nstd             31.800389            30.523286                32.945314   \nmin              0.000000             0.000000                 0.000000   \n25%             40.000000            43.518519                20.689655   \n50%             66.666667            75.000000                50.000000   \n75%             96.969697            89.230769                79.052970   \nmax            100.000000           100.000000               100.000000   \n\n       exception_percentage  \ncount             73.000000  \nmean               4.931191  \nstd               10.899989  \nmin                0.000000  \n25%                0.000000  \n50%                0.512821  \n75%                2.893891  \nmax               66.666667  ",
      "text/html": "<div>\n<style scoped>\n    .dataframe tbody tr th:only-of-type {\n        vertical-align: middle;\n    }\n\n    .dataframe tbody tr th {\n        vertical-align: top;\n    }\n\n    .dataframe thead th {\n        text-align: right;\n    }\n</style>\n<table border=\"1\" class=\"dataframe\">\n  <thead>\n    <tr style=\"text-align: right;\">\n      <th></th>\n      <th>summary_percentage</th>\n      <th>argument_percentage</th>\n      <th>return_value_percentage</th>\n      <th>exception_percentage</th>\n    </tr>\n  </thead>\n  <tbody>\n    <tr>\n      <th>count</th>\n      <td>73.000000</td>\n      <td>73.000000</td>\n      <td>73.000000</td>\n      <td>73.000000</td>\n    </tr>\n    <tr>\n      <th>mean</th>\n      <td>64.161164</td>\n      <td>63.983619</td>\n      <td>50.056195</td>\n      <td>4.931191</td>\n    </tr>\n    <tr>\n      <th>std</th>\n      <td>31.800389</td>\n      <td>30.523286</td>\n      <td>32.945314</td>\n      <td>10.899989</td>\n    </tr>\n    <tr>\n      <th>min</th>\n      <td>0.000000</td>\n      <td>0.000000</td>\n      <td>0.000000</td>\n      <td>0.000000</td>\n    </tr>\n    <tr>\n      <th>25%</th>\n      <td>40.000000</td>\n      <td>43.518519</td>\n      <td>20.689655</td>\n      <td>0.000000</td>\n    </tr>\n    <tr>\n      <th>50%</th>\n      <td>66.666667</td>\n      <td>75.000000</td>\n      <td>50.000000</td>\n      <td>0.512821</td>\n    </tr>\n    <tr>\n      <th>75%</th>\n      <td>96.969697</td>\n      <td>89.230769</td>\n      <td>79.052970</td>\n      <td>2.893891</td>\n    </tr>\n    <tr>\n      <th>max</th>\n      <td>100.000000</td>\n      <td>100.000000</td>\n      <td>100.000000</td>\n      <td>66.666667</td>\n    </tr>\n  </tbody>\n</table>\n</div>"
     },
     "metadata": {},
     "output_type": "execute_result",
     "execution_count": 37
    },
    {
     "data": {
      "text/plain": "        support      itemsets\n0  0   0.000000           (0)\n   1   0.000000           (1)\n   2   0.000000           (2)\n   3   0.000000           (3)\n   4   0.000000        (0, 1)\n   5   0.000000        (0, 2)\n   6   0.000000        (0, 3)\n   7   0.000000        (1, 2)\n   8   0.000000        (1, 3)\n   9   0.000000        (2, 3)\n   10  0.000000     (0, 1, 2)\n   11  0.000000     (0, 1, 3)\n   12  0.000000     (0, 2, 3)\n   13  0.000000     (1, 2, 3)\n   14  0.000000  (0, 1, 2, 3)\n1  0   0.400000           (0)\n   1   0.600000           (1)\n   2   0.800000           (2)\n   3   0.000000           (3)\n   4   0.200000        (0, 1)\n   5   0.400000        (0, 2)\n   6   0.000000        (0, 3)\n   7   0.400000        (1, 2)\n   8   0.000000        (1, 3)\n   9   0.000000        (2, 3)\n   10  0.200000     (0, 1, 2)\n   11  0.000000     (0, 1, 3)\n   12  0.000000     (0, 2, 3)\n   13  0.000000     (1, 2, 3)\n   14  0.000000  (0, 1, 2, 3)\n...         ...           ...\n71 0   0.333333           (0)\n   1   0.333333           (1)\n   2   0.333333           (2)\n   3   0.000000           (3)\n   4   0.333333        (0, 1)\n   5   0.333333        (0, 2)\n   6   0.000000        (0, 3)\n   7   0.333333        (1, 2)\n   8   0.000000        (1, 3)\n   9   0.000000        (2, 3)\n   10  0.333333     (0, 1, 2)\n   11  0.000000     (0, 1, 3)\n   12  0.000000     (0, 2, 3)\n   13  0.000000     (1, 2, 3)\n   14  0.000000  (0, 1, 2, 3)\n72 0   0.416667           (0)\n   1   0.458333           (1)\n   2   0.916667           (2)\n   3   0.000000           (3)\n   4   0.333333        (0, 1)\n   5   0.333333        (0, 2)\n   6   0.000000        (0, 3)\n   7   0.416667        (1, 2)\n   8   0.000000        (1, 3)\n   9   0.000000        (2, 3)\n   10  0.291667     (0, 1, 2)\n   11  0.000000     (0, 1, 3)\n   12  0.000000     (0, 2, 3)\n   13  0.000000     (1, 2, 3)\n   14  0.000000  (0, 1, 2, 3)\n\n[1095 rows x 2 columns]",
      "text/html": "<div>\n<style scoped>\n    .dataframe tbody tr th:only-of-type {\n        vertical-align: middle;\n    }\n\n    .dataframe tbody tr th {\n        vertical-align: top;\n    }\n\n    .dataframe thead th {\n        text-align: right;\n    }\n</style>\n<table border=\"1\" class=\"dataframe\">\n  <thead>\n    <tr style=\"text-align: right;\">\n      <th></th>\n      <th></th>\n      <th>support</th>\n      <th>itemsets</th>\n    </tr>\n  </thead>\n  <tbody>\n    <tr>\n      <th rowspan=\"15\" valign=\"top\">0</th>\n      <th>0</th>\n      <td>0.000000</td>\n      <td>(0)</td>\n    </tr>\n    <tr>\n      <th>1</th>\n      <td>0.000000</td>\n      <td>(1)</td>\n    </tr>\n    <tr>\n      <th>2</th>\n      <td>0.000000</td>\n      <td>(2)</td>\n    </tr>\n    <tr>\n      <th>3</th>\n      <td>0.000000</td>\n      <td>(3)</td>\n    </tr>\n    <tr>\n      <th>4</th>\n      <td>0.000000</td>\n      <td>(0, 1)</td>\n    </tr>\n    <tr>\n      <th>5</th>\n      <td>0.000000</td>\n      <td>(0, 2)</td>\n    </tr>\n    <tr>\n      <th>6</th>\n      <td>0.000000</td>\n      <td>(0, 3)</td>\n    </tr>\n    <tr>\n      <th>7</th>\n      <td>0.000000</td>\n      <td>(1, 2)</td>\n    </tr>\n    <tr>\n      <th>8</th>\n      <td>0.000000</td>\n      <td>(1, 3)</td>\n    </tr>\n    <tr>\n      <th>9</th>\n      <td>0.000000</td>\n      <td>(2, 3)</td>\n    </tr>\n    <tr>\n      <th>10</th>\n      <td>0.000000</td>\n      <td>(0, 1, 2)</td>\n    </tr>\n    <tr>\n      <th>11</th>\n      <td>0.000000</td>\n      <td>(0, 1, 3)</td>\n    </tr>\n    <tr>\n      <th>12</th>\n      <td>0.000000</td>\n      <td>(0, 2, 3)</td>\n    </tr>\n    <tr>\n      <th>13</th>\n      <td>0.000000</td>\n      <td>(1, 2, 3)</td>\n    </tr>\n    <tr>\n      <th>14</th>\n      <td>0.000000</td>\n      <td>(0, 1, 2, 3)</td>\n    </tr>\n    <tr>\n      <th rowspan=\"15\" valign=\"top\">1</th>\n      <th>0</th>\n      <td>0.400000</td>\n      <td>(0)</td>\n    </tr>\n    <tr>\n      <th>1</th>\n      <td>0.600000</td>\n      <td>(1)</td>\n    </tr>\n    <tr>\n      <th>2</th>\n      <td>0.800000</td>\n      <td>(2)</td>\n    </tr>\n    <tr>\n      <th>3</th>\n      <td>0.000000</td>\n      <td>(3)</td>\n    </tr>\n    <tr>\n      <th>4</th>\n      <td>0.200000</td>\n      <td>(0, 1)</td>\n    </tr>\n    <tr>\n      <th>5</th>\n      <td>0.400000</td>\n      <td>(0, 2)</td>\n    </tr>\n    <tr>\n      <th>6</th>\n      <td>0.000000</td>\n      <td>(0, 3)</td>\n    </tr>\n    <tr>\n      <th>7</th>\n      <td>0.400000</td>\n      <td>(1, 2)</td>\n    </tr>\n    <tr>\n      <th>8</th>\n      <td>0.000000</td>\n      <td>(1, 3)</td>\n    </tr>\n    <tr>\n      <th>9</th>\n      <td>0.000000</td>\n      <td>(2, 3)</td>\n    </tr>\n    <tr>\n      <th>10</th>\n      <td>0.200000</td>\n      <td>(0, 1, 2)</td>\n    </tr>\n    <tr>\n      <th>11</th>\n      <td>0.000000</td>\n      <td>(0, 1, 3)</td>\n    </tr>\n    <tr>\n      <th>12</th>\n      <td>0.000000</td>\n      <td>(0, 2, 3)</td>\n    </tr>\n    <tr>\n      <th>13</th>\n      <td>0.000000</td>\n      <td>(1, 2, 3)</td>\n    </tr>\n    <tr>\n      <th>14</th>\n      <td>0.000000</td>\n      <td>(0, 1, 2, 3)</td>\n    </tr>\n    <tr>\n      <th>...</th>\n      <th>...</th>\n      <td>...</td>\n      <td>...</td>\n    </tr>\n    <tr>\n      <th rowspan=\"15\" valign=\"top\">71</th>\n      <th>0</th>\n      <td>0.333333</td>\n      <td>(0)</td>\n    </tr>\n    <tr>\n      <th>1</th>\n      <td>0.333333</td>\n      <td>(1)</td>\n    </tr>\n    <tr>\n      <th>2</th>\n      <td>0.333333</td>\n      <td>(2)</td>\n    </tr>\n    <tr>\n      <th>3</th>\n      <td>0.000000</td>\n      <td>(3)</td>\n    </tr>\n    <tr>\n      <th>4</th>\n      <td>0.333333</td>\n      <td>(0, 1)</td>\n    </tr>\n    <tr>\n      <th>5</th>\n      <td>0.333333</td>\n      <td>(0, 2)</td>\n    </tr>\n    <tr>\n      <th>6</th>\n      <td>0.000000</td>\n      <td>(0, 3)</td>\n    </tr>\n    <tr>\n      <th>7</th>\n      <td>0.333333</td>\n      <td>(1, 2)</td>\n    </tr>\n    <tr>\n      <th>8</th>\n      <td>0.000000</td>\n      <td>(1, 3)</td>\n    </tr>\n    <tr>\n      <th>9</th>\n      <td>0.000000</td>\n      <td>(2, 3)</td>\n    </tr>\n    <tr>\n      <th>10</th>\n      <td>0.333333</td>\n      <td>(0, 1, 2)</td>\n    </tr>\n    <tr>\n      <th>11</th>\n      <td>0.000000</td>\n      <td>(0, 1, 3)</td>\n    </tr>\n    <tr>\n      <th>12</th>\n      <td>0.000000</td>\n      <td>(0, 2, 3)</td>\n    </tr>\n    <tr>\n      <th>13</th>\n      <td>0.000000</td>\n      <td>(1, 2, 3)</td>\n    </tr>\n    <tr>\n      <th>14</th>\n      <td>0.000000</td>\n      <td>(0, 1, 2, 3)</td>\n    </tr>\n    <tr>\n      <th rowspan=\"15\" valign=\"top\">72</th>\n      <th>0</th>\n      <td>0.416667</td>\n      <td>(0)</td>\n    </tr>\n    <tr>\n      <th>1</th>\n      <td>0.458333</td>\n      <td>(1)</td>\n    </tr>\n    <tr>\n      <th>2</th>\n      <td>0.916667</td>\n      <td>(2)</td>\n    </tr>\n    <tr>\n      <th>3</th>\n      <td>0.000000</td>\n      <td>(3)</td>\n    </tr>\n    <tr>\n      <th>4</th>\n      <td>0.333333</td>\n      <td>(0, 1)</td>\n    </tr>\n    <tr>\n      <th>5</th>\n      <td>0.333333</td>\n      <td>(0, 2)</td>\n    </tr>\n    <tr>\n      <th>6</th>\n      <td>0.000000</td>\n      <td>(0, 3)</td>\n    </tr>\n    <tr>\n      <th>7</th>\n      <td>0.416667</td>\n      <td>(1, 2)</td>\n    </tr>\n    <tr>\n      <th>8</th>\n      <td>0.000000</td>\n      <td>(1, 3)</td>\n    </tr>\n    <tr>\n      <th>9</th>\n      <td>0.000000</td>\n      <td>(2, 3)</td>\n    </tr>\n    <tr>\n      <th>10</th>\n      <td>0.291667</td>\n      <td>(0, 1, 2)</td>\n    </tr>\n    <tr>\n      <th>11</th>\n      <td>0.000000</td>\n      <td>(0, 1, 3)</td>\n    </tr>\n    <tr>\n      <th>12</th>\n      <td>0.000000</td>\n      <td>(0, 2, 3)</td>\n    </tr>\n    <tr>\n      <th>13</th>\n      <td>0.000000</td>\n      <td>(1, 2, 3)</td>\n    </tr>\n    <tr>\n      <th>14</th>\n      <td>0.000000</td>\n      <td>(0, 1, 2, 3)</td>\n    </tr>\n  </tbody>\n</table>\n<p>1095 rows × 2 columns</p>\n</div>"
     },
     "metadata": {},
     "output_type": "execute_result",
     "execution_count": 37
    },
    {
     "data": {
      "text/plain": "count    73.000000\nmean      0.440704\nstd       0.296738\nmin       0.000000\n25%       0.200000\n50%       0.416667\n75%       0.689655\nmax       1.000000\nName: support, dtype: float64"
     },
     "metadata": {},
     "output_type": "execute_result",
     "execution_count": 37
    },
    {
     "data": {
      "text/plain": "count    73.000000\nmean      0.348347\nstd       0.296896\nmin       0.000000\n25%       0.076923\n50%       0.322072\n75%       0.487805\nmax       1.000000\nName: support, dtype: float64"
     },
     "metadata": {},
     "output_type": "execute_result",
     "execution_count": 37
    },
    {
     "data": {
      "text/plain": "count    73.000000\nmean      0.374671\nstd       0.296198\nmin       0.000000\n25%       0.125000\n50%       0.333333\n75%       0.562500\nmax       1.000000\nName: support, dtype: float64"
     },
     "metadata": {},
     "output_type": "execute_result",
     "execution_count": 37
    },
    {
     "data": {
      "text/plain": "count    73.000000\nmean      0.269328\nstd       0.264639\nmin       0.000000\n25%       0.058824\n50%       0.209003\n75%       0.372922\nmax       1.000000\nName: support, dtype: float64"
     },
     "metadata": {},
     "output_type": "execute_result",
     "execution_count": 37
    },
    {
     "data": {
      "text/plain": "{'whiskers': [<matplotlib.lines.Line2D at 0x1e0f7b617f0>,\n  <matplotlib.lines.Line2D at 0x1e0f7b61240>,\n  <matplotlib.lines.Line2D at 0x1e0f7bb05f8>,\n  <matplotlib.lines.Line2D at 0x1e0f7bb0eb8>,\n  <matplotlib.lines.Line2D at 0x1e0f7bc8198>,\n  <matplotlib.lines.Line2D at 0x1e0f7bc8710>,\n  <matplotlib.lines.Line2D at 0x1e0f7bfc1d0>,\n  <matplotlib.lines.Line2D at 0x1e0f7bfc940>],\n 'caps': [<matplotlib.lines.Line2D at 0x1e0f7b61898>,\n  <matplotlib.lines.Line2D at 0x1e0f7b61b70>,\n  <matplotlib.lines.Line2D at 0x1e0f7bb0e48>,\n  <matplotlib.lines.Line2D at 0x1e0f7ad9860>,\n  <matplotlib.lines.Line2D at 0x1e0f7bc8c18>,\n  <matplotlib.lines.Line2D at 0x1e0f7bc8b38>,\n  <matplotlib.lines.Line2D at 0x1e0f7bfca20>,\n  <matplotlib.lines.Line2D at 0x1e0f7c16b70>],\n 'boxes': [<matplotlib.lines.Line2D at 0x1e0f7b46c50>,\n  <matplotlib.lines.Line2D at 0x1e0f7bb0f98>,\n  <matplotlib.lines.Line2D at 0x1e0f7b91be0>,\n  <matplotlib.lines.Line2D at 0x1e0f7be5f60>],\n 'medians': [<matplotlib.lines.Line2D at 0x1e0f7b61fd0>,\n  <matplotlib.lines.Line2D at 0x1e0f7ad9fd0>,\n  <matplotlib.lines.Line2D at 0x1e0f7be50b8>,\n  <matplotlib.lines.Line2D at 0x1e0f7c165c0>],\n 'fliers': [<matplotlib.lines.Line2D at 0x1e0f7b7b358>,\n  <matplotlib.lines.Line2D at 0x1e0f7b91898>,\n  <matplotlib.lines.Line2D at 0x1e0f7be5ef0>,\n  <matplotlib.lines.Line2D at 0x1e0f7c169e8>],\n 'means': [<matplotlib.lines.Line2D at 0x1e0f7b7b0b8>,\n  <matplotlib.lines.Line2D at 0x1e0f7ad9a90>,\n  <matplotlib.lines.Line2D at 0x1e0f7be57b8>,\n  <matplotlib.lines.Line2D at 0x1e0f7c16ba8>]}"
     },
     "metadata": {},
     "output_type": "execute_result",
     "execution_count": 37
    },
    {
     "data": {
      "text/plain": "([<matplotlib.axis.XTick at 0x1e0f7b2b668>,\n  <matplotlib.axis.XTick at 0x1e0f7b2b9b0>,\n  <matplotlib.axis.XTick at 0x1e0f7b2b470>,\n  <matplotlib.axis.XTick at 0x1e0f7c32400>,\n  <matplotlib.axis.XTick at 0x1e0f7b46cc0>],\n <a list of 5 Text xticklabel objects>)"
     },
     "metadata": {},
     "output_type": "execute_result",
     "execution_count": 37
    },
    {
     "data": {
      "text/plain": "<Figure size 432x288 with 1 Axes>",
      "image/png": "[encoded data removed]"
     },
     "metadata": {
      "needs_background": "light"
     },
     "output_type": "display_data"
    }
   ],
   "source": [
    "structured_multiline_docstrings = multiline_format_docstrings.loc[(multiline_format_docstrings['hasArgumentComponent'] == True) & (multiline_format_docstrings['hasReturnComponent'] == True) & (multiline_format_docstrings['hasShortSummary'] == True)]\n",
    "len(multiline_format_docstrings)\n",
    "\n",
    "#Get percentages of components in formatted docstrings:\n",
    "len(multiline_format_docstrings[multiline_format_docstrings.hasShortSummary == True])\n",
    "len(multiline_format_docstrings[multiline_format_docstrings.hasArgumentComponent == True])\n",
    "len(multiline_format_docstrings[multiline_format_docstrings.hasReturnComponent == True])\n",
    "len(multiline_format_docstrings[multiline_format_docstrings.hasRaiseComponent == True])\n",
    "\n",
    "len(multiline_format_docstrings[multiline_format_docstrings.hasRaiseComponent == True])/len(multiline_format_docstrings) * 100\n",
    "\n",
    "len(multiline_format_docstrings[multiline_format_docstrings.hasShortSummary == True])/len(multiline_format_docstrings) * 100\n",
    "len(multiline_format_docstrings[multiline_format_docstrings.hasArgumentComponent == True])/len(multiline_format_docstrings) * 100\n",
    "len(multiline_format_docstrings[multiline_format_docstrings.hasReturnComponent == True])/len(multiline_format_docstrings) * 100\n",
    "\n",
    "\n",
    "len(multiline_format_docstrings[multiline_format_docstrings.hasRaiseComponent == True])/len(multiline_format_docstrings) * 100\n",
    "len(structured_multiline_docstrings.index)\n",
    "\n",
    "def get_occurrence_percentage(df_in):\n",
    "    df_in[\"argument_percentage\"] = len(df_in[df_in.hasArgumentComponent == True]) / len(df_in[\"hasArgumentComponent\"]) * 100\n",
    "    df_in[\"return_value_percentage\"] = len(df_in[df_in.hasReturnComponent == True]) / len(df_in[\"hasReturnComponent\"]) * 100\n",
    "    df_in[\"summary_percentage\"] = len(df_in[df_in.hasShortSummary == True]) / len(df_in[\"hasShortSummary\"]) * 100\n",
    "    df_in[\"exception_percentage\"] = len(df_in[df_in.hasRaiseComponent == True]) / len(df_in[\"hasRaiseComponent\"]) * 100\n",
    "    \n",
    "    return df_in\n",
    "\n",
    "def get_frequent_item_set(df_in):\n",
    "    tmp_df = pd.DataFrame(df_in, columns=[\"hasShortSummary\", \"hasArgumentComponent\", \"hasReturnComponent\", \"hasRaiseComponent\"])\n",
    "    \n",
    "    return apriori(tmp_df, min_support=0)\n",
    "\n",
    "\n",
    "component_percentage_per_project_df = pd.DataFrame(multiline_format_docstrings.groupby(['sourceProject']).apply(get_occurrence_percentage), columns=['sourceProject', 'argument_percentage', 'return_value_percentage', 'summary_percentage', 'exception_percentage'])\n",
    "component_percentage_per_project_df = component_percentage_per_project_df.groupby('sourceProject', as_index=False).agg({'summary_percentage': 'mean', 'argument_percentage': 'mean', 'return_value_percentage': 'mean', 'exception_percentage': 'mean'})\n",
    "component_percentage_per_project_df.describe()\n",
    "\n",
    "#plt.boxplot([component_percentage_per_project_df[\"summary_percentage\"], component_percentage_per_project_df[\"argument_percentage\"], component_percentage_per_project_df[\"return_value_percentage\"], component_percentage_per_project_df[\"exception_percentage\"]])\n",
    "#plt.xticks(np.arange(5), (\"\",\"Summary\", \"Parameters\", \"Return Values\", \"Exceptions\"))\n",
    "#plt.savefig(\"boxplot_of_component_per_project.png\")\n",
    "\n",
    "frequent_item_set_per_project = pd.DataFrame(multiline_format_docstrings.groupby(['sourceProject'], as_index=False).apply(get_frequent_item_set))\n",
    "frequent_item_set_per_project\n",
    "summary_parameter_itemset = frequent_item_set_per_project[frequent_item_set_per_project[\"itemsets\"] == {0,1}]\n",
    "summary_return_value_itemset = frequent_item_set_per_project[frequent_item_set_per_project[\"itemsets\"] == {0,2}]\n",
    "parameter_retrun_value_itemset = frequent_item_set_per_project[frequent_item_set_per_project[\"itemsets\"] == {1,2}]\n",
    "summary_return_parameter_itemset = frequent_item_set_per_project[frequent_item_set_per_project[\"itemsets\"] == {0, 1, 2}]\n",
    "summary_parameter_itemset[\"support\"].describe()\n",
    "summary_return_value_itemset[\"support\"].describe()\n",
    "parameter_retrun_value_itemset[\"support\"].describe()\n",
    "summary_return_parameter_itemset[\"support\"].describe()\n",
    "\n",
    "plt.boxplot([summary_parameter_itemset[\"support\"], summary_return_value_itemset[\"support\"], parameter_retrun_value_itemset[\"support\"], summary_return_parameter_itemset[\"support\"]], showmeans=True)\n",
    "plt.xticks(np.arange(5), (\"\",\"1, 2\", \"1, 3\", \"2, 3\", \"1, 2, 3\"))\n",
    "plt.savefig(\"boxplot_itemsets_per_project.png\")"
   ],
   "metadata": {
    "collapsed": false,
    "pycharm": {
     "name": "#%%\n",
     "is_executing": false
    }
   }
  },
  {
   "cell_type": "markdown",
   "source": [
    "<h3>Most frequent item set</h3>\n"
   ],
   "metadata": {
    "collapsed": false,
    "pycharm": {
     "name": "#%% md\n"
    }
   }
  },
  {
   "cell_type": "code",
   "execution_count": 15,
   "outputs": [
    {
     "data": {
      "text/plain": "        hasShortSummary  hasArgumentComponent  hasReturnComponent  \\\n48                False                 False               False   \n298               False                  True                True   \n615               False                 False               False   \n723                True                  True                True   \n724                True                  True                True   \n791                True                 False                True   \n792                True                 False                True   \n794               False                 False                True   \n795                True                 False                True   \n796                True                 False                True   \n797                True                 False                True   \n798                True                 False                True   \n799                True                 False                True   \n802               False                  True                True   \n851                True                 False                True   \n852                True                 False                True   \n859               False                  True                True   \n860               False                  True                True   \n861               False                  True                True   \n862               False                  True                True   \n863               False                  True                True   \n864               False                  True                True   \n865               False                  True                True   \n866               False                  True                True   \n867               False                  True                True   \n1000              False                  True               False   \n1001              False                  True                True   \n1002              False                  True                True   \n1003              False                  True                True   \n1004              False                  True                True   \n...                 ...                   ...                 ...   \n148731             True                  True                True   \n148732             True                  True                True   \n148733             True                  True                True   \n148734            False                  True                True   \n148735            False                  True                True   \n148736             True                  True                True   \n148737            False                  True                True   \n148738             True                  True                True   \n148739             True                 False                True   \n148740             True                  True                True   \n148741            False                  True               False   \n148742            False                  True                True   \n148743            False                  True                True   \n148744            False                  True                True   \n148745            False                  True                True   \n148746            False                  True                True   \n148747            False                  True                True   \n148748             True                  True                True   \n148749            False                 False                True   \n148750            False                 False                True   \n148751            False                 False                True   \n148752             True                  True               False   \n148753            False                  True               False   \n148754            False                  True               False   \n148757            False                  True               False   \n148758            False                  True               False   \n148759            False                  True               False   \n148761            False                  True               False   \n148762             True                  True                True   \n148763             True                  True               False   \n\n        hasRaiseComponent  \n48                  False  \n298                 False  \n615                 False  \n723                 False  \n724                 False  \n791                 False  \n792                 False  \n794                 False  \n795                 False  \n796                 False  \n797                 False  \n798                 False  \n799                 False  \n802                 False  \n851                 False  \n852                 False  \n859                 False  \n860                 False  \n861                 False  \n862                 False  \n863                 False  \n864                 False  \n865                 False  \n866                 False  \n867                 False  \n1000                False  \n1001                False  \n1002                False  \n1003                False  \n1004                False  \n...                   ...  \n148731              False  \n148732              False  \n148733              False  \n148734              False  \n148735              False  \n148736              False  \n148737              False  \n148738              False  \n148739              False  \n148740              False  \n148741              False  \n148742              False  \n148743              False  \n148744              False  \n148745              False  \n148746              False  \n148747              False  \n148748              False  \n148749              False  \n148750              False  \n148751              False  \n148752              False  \n148753              False  \n148754              False  \n148757              False  \n148758              False  \n148759              False  \n148761              False  \n148762              False  \n148763               True  \n\n[20516 rows x 4 columns]",
      "text/html": "<div>\n<style scoped>\n    .dataframe tbody tr th:only-of-type {\n        vertical-align: middle;\n    }\n\n    .dataframe tbody tr th {\n        vertical-align: top;\n    }\n\n    .dataframe thead th {\n        text-align: right;\n    }\n</style>\n<table border=\"1\" class=\"dataframe\">\n  <thead>\n    <tr style=\"text-align: right;\">\n      <th></th>\n      <th>hasShortSummary</th>\n      <th>hasArgumentComponent</th>\n      <th>hasReturnComponent</th>\n      <th>hasRaiseComponent</th>\n    </tr>\n  </thead>\n  <tbody>\n    <tr>\n      <th>48</th>\n      <td>False</td>\n      <td>False</td>\n      <td>False</td>\n      <td>False</td>\n    </tr>\n    <tr>\n      <th>298</th>\n      <td>False</td>\n      <td>True</td>\n      <td>True</td>\n      <td>False</td>\n    </tr>\n    <tr>\n      <th>615</th>\n      <td>False</td>\n      <td>False</td>\n      <td>False</td>\n      <td>False</td>\n    </tr>\n    <tr>\n      <th>723</th>\n      <td>True</td>\n      <td>True</td>\n      <td>True</td>\n      <td>False</td>\n    </tr>\n    <tr>\n      <th>724</th>\n      <td>True</td>\n      <td>True</td>\n      <td>True</td>\n      <td>False</td>\n    </tr>\n    <tr>\n      <th>791</th>\n      <td>True</td>\n      <td>False</td>\n      <td>True</td>\n      <td>False</td>\n    </tr>\n    <tr>\n      <th>792</th>\n      <td>True</td>\n      <td>False</td>\n      <td>True</td>\n      <td>False</td>\n    </tr>\n    <tr>\n      <th>794</th>\n      <td>False</td>\n      <td>False</td>\n      <td>True</td>\n      <td>False</td>\n    </tr>\n    <tr>\n      <th>795</th>\n      <td>True</td>\n      <td>False</td>\n      <td>True</td>\n      <td>False</td>\n    </tr>\n    <tr>\n      <th>796</th>\n      <td>True</td>\n      <td>False</td>\n      <td>True</td>\n      <td>False</td>\n    </tr>\n    <tr>\n      <th>797</th>\n      <td>True</td>\n      <td>False</td>\n      <td>True</td>\n      <td>False</td>\n    </tr>\n    <tr>\n      <th>798</th>\n      <td>True</td>\n      <td>False</td>\n      <td>True</td>\n      <td>False</td>\n    </tr>\n    <tr>\n      <th>799</th>\n      <td>True</td>\n      <td>False</td>\n      <td>True</td>\n      <td>False</td>\n    </tr>\n    <tr>\n      <th>802</th>\n      <td>False</td>\n      <td>True</td>\n      <td>True</td>\n      <td>False</td>\n    </tr>\n    <tr>\n      <th>851</th>\n      <td>True</td>\n      <td>False</td>\n      <td>True</td>\n      <td>False</td>\n    </tr>\n    <tr>\n      <th>852</th>\n      <td>True</td>\n      <td>False</td>\n      <td>True</td>\n      <td>False</td>\n    </tr>\n    <tr>\n      <th>859</th>\n      <td>False</td>\n      <td>True</td>\n      <td>True</td>\n      <td>False</td>\n    </tr>\n    <tr>\n      <th>860</th>\n      <td>False</td>\n      <td>True</td>\n      <td>True</td>\n      <td>False</td>\n    </tr>\n    <tr>\n      <th>861</th>\n      <td>False</td>\n      <td>True</td>\n      <td>True</td>\n      <td>False</td>\n    </tr>\n    <tr>\n      <th>862</th>\n      <td>False</td>\n      <td>True</td>\n      <td>True</td>\n      <td>False</td>\n    </tr>\n    <tr>\n      <th>863</th>\n      <td>False</td>\n      <td>True</td>\n      <td>True</td>\n      <td>False</td>\n    </tr>\n    <tr>\n      <th>864</th>\n      <td>False</td>\n      <td>True</td>\n      <td>True</td>\n      <td>False</td>\n    </tr>\n    <tr>\n      <th>865</th>\n      <td>False</td>\n      <td>True</td>\n      <td>True</td>\n      <td>False</td>\n    </tr>\n    <tr>\n      <th>866</th>\n      <td>False</td>\n      <td>True</td>\n      <td>True</td>\n      <td>False</td>\n    </tr>\n    <tr>\n      <th>867</th>\n      <td>False</td>\n      <td>True</td>\n      <td>True</td>\n      <td>False</td>\n    </tr>\n    <tr>\n      <th>1000</th>\n      <td>False</td>\n      <td>True</td>\n      <td>False</td>\n      <td>False</td>\n    </tr>\n    <tr>\n      <th>1001</th>\n      <td>False</td>\n      <td>True</td>\n      <td>True</td>\n      <td>False</td>\n    </tr>\n    <tr>\n      <th>1002</th>\n      <td>False</td>\n      <td>True</td>\n      <td>True</td>\n      <td>False</td>\n    </tr>\n    <tr>\n      <th>1003</th>\n      <td>False</td>\n      <td>True</td>\n      <td>True</td>\n      <td>False</td>\n    </tr>\n    <tr>\n      <th>1004</th>\n      <td>False</td>\n      <td>True</td>\n      <td>True</td>\n      <td>False</td>\n    </tr>\n    <tr>\n      <th>...</th>\n      <td>...</td>\n      <td>...</td>\n      <td>...</td>\n      <td>...</td>\n    </tr>\n    <tr>\n      <th>148731</th>\n      <td>True</td>\n      <td>True</td>\n      <td>True</td>\n      <td>False</td>\n    </tr>\n    <tr>\n      <th>148732</th>\n      <td>True</td>\n      <td>True</td>\n      <td>True</td>\n      <td>False</td>\n    </tr>\n    <tr>\n      <th>148733</th>\n      <td>True</td>\n      <td>True</td>\n      <td>True</td>\n      <td>False</td>\n    </tr>\n    <tr>\n      <th>148734</th>\n      <td>False</td>\n      <td>True</td>\n      <td>True</td>\n      <td>False</td>\n    </tr>\n    <tr>\n      <th>148735</th>\n      <td>False</td>\n      <td>True</td>\n      <td>True</td>\n      <td>False</td>\n    </tr>\n    <tr>\n      <th>148736</th>\n      <td>True</td>\n      <td>True</td>\n      <td>True</td>\n      <td>False</td>\n    </tr>\n    <tr>\n      <th>148737</th>\n      <td>False</td>\n      <td>True</td>\n      <td>True</td>\n      <td>False</td>\n    </tr>\n    <tr>\n      <th>148738</th>\n      <td>True</td>\n      <td>True</td>\n      <td>True</td>\n      <td>False</td>\n    </tr>\n    <tr>\n      <th>148739</th>\n      <td>True</td>\n      <td>False</td>\n      <td>True</td>\n      <td>False</td>\n    </tr>\n    <tr>\n      <th>148740</th>\n      <td>True</td>\n      <td>True</td>\n      <td>True</td>\n      <td>False</td>\n    </tr>\n    <tr>\n      <th>148741</th>\n      <td>False</td>\n      <td>True</td>\n      <td>False</td>\n      <td>False</td>\n    </tr>\n    <tr>\n      <th>148742</th>\n      <td>False</td>\n      <td>True</td>\n      <td>True</td>\n      <td>False</td>\n    </tr>\n    <tr>\n      <th>148743</th>\n      <td>False</td>\n      <td>True</td>\n      <td>True</td>\n      <td>False</td>\n    </tr>\n    <tr>\n      <th>148744</th>\n      <td>False</td>\n      <td>True</td>\n      <td>True</td>\n      <td>False</td>\n    </tr>\n    <tr>\n      <th>148745</th>\n      <td>False</td>\n      <td>True</td>\n      <td>True</td>\n      <td>False</td>\n    </tr>\n    <tr>\n      <th>148746</th>\n      <td>False</td>\n      <td>True</td>\n      <td>True</td>\n      <td>False</td>\n    </tr>\n    <tr>\n      <th>148747</th>\n      <td>False</td>\n      <td>True</td>\n      <td>True</td>\n      <td>False</td>\n    </tr>\n    <tr>\n      <th>148748</th>\n      <td>True</td>\n      <td>True</td>\n      <td>True</td>\n      <td>False</td>\n    </tr>\n    <tr>\n      <th>148749</th>\n      <td>False</td>\n      <td>False</td>\n      <td>True</td>\n      <td>False</td>\n    </tr>\n    <tr>\n      <th>148750</th>\n      <td>False</td>\n      <td>False</td>\n      <td>True</td>\n      <td>False</td>\n    </tr>\n    <tr>\n      <th>148751</th>\n      <td>False</td>\n      <td>False</td>\n      <td>True</td>\n      <td>False</td>\n    </tr>\n    <tr>\n      <th>148752</th>\n      <td>True</td>\n      <td>True</td>\n      <td>False</td>\n      <td>False</td>\n    </tr>\n    <tr>\n      <th>148753</th>\n      <td>False</td>\n      <td>True</td>\n      <td>False</td>\n      <td>False</td>\n    </tr>\n    <tr>\n      <th>148754</th>\n      <td>False</td>\n      <td>True</td>\n      <td>False</td>\n      <td>False</td>\n    </tr>\n    <tr>\n      <th>148757</th>\n      <td>False</td>\n      <td>True</td>\n      <td>False</td>\n      <td>False</td>\n    </tr>\n    <tr>\n      <th>148758</th>\n      <td>False</td>\n      <td>True</td>\n      <td>False</td>\n      <td>False</td>\n    </tr>\n    <tr>\n      <th>148759</th>\n      <td>False</td>\n      <td>True</td>\n      <td>False</td>\n      <td>False</td>\n    </tr>\n    <tr>\n      <th>148761</th>\n      <td>False</td>\n      <td>True</td>\n      <td>False</td>\n      <td>False</td>\n    </tr>\n    <tr>\n      <th>148762</th>\n      <td>True</td>\n      <td>True</td>\n      <td>True</td>\n      <td>False</td>\n    </tr>\n    <tr>\n      <th>148763</th>\n      <td>True</td>\n      <td>True</td>\n      <td>False</td>\n      <td>True</td>\n    </tr>\n  </tbody>\n</table>\n<p>20516 rows × 4 columns</p>\n</div>"
     },
     "metadata": {},
     "output_type": "execute_result",
     "execution_count": 15
    },
    {
     "data": {
      "text/plain": "     support      itemsets\n0   0.701647           (0)\n1   0.692045           (1)\n2   0.572919           (2)\n3   0.074478           (3)\n4   0.527588        (0, 1)\n5   0.440339        (0, 2)\n6   0.066631        (0, 3)\n7   0.455644        (1, 2)\n8   0.067606        (1, 3)\n9   0.055274        (2, 3)\n10  0.356648     (0, 1, 2)\n11  0.061513     (0, 1, 3)\n12  0.049912     (0, 2, 3)\n13  0.051911     (1, 2, 3)\n14  0.047183  (0, 1, 2, 3)",
      "text/html": "<div>\n<style scoped>\n    .dataframe tbody tr th:only-of-type {\n        vertical-align: middle;\n    }\n\n    .dataframe tbody tr th {\n        vertical-align: top;\n    }\n\n    .dataframe thead th {\n        text-align: right;\n    }\n</style>\n<table border=\"1\" class=\"dataframe\">\n  <thead>\n    <tr style=\"text-align: right;\">\n      <th></th>\n      <th>support</th>\n      <th>itemsets</th>\n    </tr>\n  </thead>\n  <tbody>\n    <tr>\n      <th>0</th>\n      <td>0.701647</td>\n      <td>(0)</td>\n    </tr>\n    <tr>\n      <th>1</th>\n      <td>0.692045</td>\n      <td>(1)</td>\n    </tr>\n    <tr>\n      <th>2</th>\n      <td>0.572919</td>\n      <td>(2)</td>\n    </tr>\n    <tr>\n      <th>3</th>\n      <td>0.074478</td>\n      <td>(3)</td>\n    </tr>\n    <tr>\n      <th>4</th>\n      <td>0.527588</td>\n      <td>(0, 1)</td>\n    </tr>\n    <tr>\n      <th>5</th>\n      <td>0.440339</td>\n      <td>(0, 2)</td>\n    </tr>\n    <tr>\n      <th>6</th>\n      <td>0.066631</td>\n      <td>(0, 3)</td>\n    </tr>\n    <tr>\n      <th>7</th>\n      <td>0.455644</td>\n      <td>(1, 2)</td>\n    </tr>\n    <tr>\n      <th>8</th>\n      <td>0.067606</td>\n      <td>(1, 3)</td>\n    </tr>\n    <tr>\n      <th>9</th>\n      <td>0.055274</td>\n      <td>(2, 3)</td>\n    </tr>\n    <tr>\n      <th>10</th>\n      <td>0.356648</td>\n      <td>(0, 1, 2)</td>\n    </tr>\n    <tr>\n      <th>11</th>\n      <td>0.061513</td>\n      <td>(0, 1, 3)</td>\n    </tr>\n    <tr>\n      <th>12</th>\n      <td>0.049912</td>\n      <td>(0, 2, 3)</td>\n    </tr>\n    <tr>\n      <th>13</th>\n      <td>0.051911</td>\n      <td>(1, 2, 3)</td>\n    </tr>\n    <tr>\n      <th>14</th>\n      <td>0.047183</td>\n      <td>(0, 1, 2, 3)</td>\n    </tr>\n  </tbody>\n</table>\n</div>"
     },
     "metadata": {},
     "output_type": "execute_result",
     "execution_count": 15
    }
   ],
   "source": [
    "\n",
    "meta_model_components = pd.DataFrame(multiline_format_docstrings, columns=[\"hasShortSummary\", \"hasArgumentComponent\", \"hasReturnComponent\", \"hasRaiseComponent\"])\n",
    "meta_model_components\n",
    "\n",
    "\n",
    "test_df = apriori(meta_model_components, min_support=0.01)\n",
    "test_df\n",
    "\n",
    "\n"
   ],
   "metadata": {
    "collapsed": false,
    "pycharm": {
     "name": "#%%\n",
     "is_executing": false
    }
   }
  },
  {
   "cell_type": "code",
   "execution_count": null,
   "outputs": [],
   "source": [
    "\n"
   ],
   "metadata": {
    "collapsed": false,
    "pycharm": {
     "name": "#%%\n"
    }
   }
  }
 ],
 "metadata": {
  "language_info": {
   "codemirror_mode": {
    "name": "ipython",
    "version": 2
   },
   "file_extension": ".py",
   "mimetype": "text/x-python",
   "name": "python",
   "nbconvert_exporter": "python",
   "pygments_lexer": "ipython2",
   "version": "2.7.6"
  },
  "kernelspec": {
   "name": "python3",
   "language": "python",
   "display_name": "Python 3"
  },
  "pycharm": {
   "stem_cell": {
    "cell_type": "raw",
    "source": [],
    "metadata": {
     "collapsed": false
    }
   }
  }
 },
 "nbformat": 4,
 "nbformat_minor": 0
}