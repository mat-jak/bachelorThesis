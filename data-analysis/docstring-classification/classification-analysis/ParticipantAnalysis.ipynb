{
 "cells": [
  {
   "cell_type": "code",
   "execution_count": 1,
   "outputs": [],
   "source": [
    "import numpy as np\n",
    "import matplotlib.pyplot as plt\n",
    "from matplotlib.ticker import StrMethodFormatter\n",
    "import scipy as sp\n",
    "import scipy.stats as stats\n",
    "import pandas as pd\n",
    "\n",
    "from IPython.core.interactiveshell import InteractiveShell\n",
    "InteractiveShell.ast_node_interactivity = \"all\"\n"
   ],
   "metadata": {
    "collapsed": false,
    "pycharm": {
     "name": "#%%\n",
     "is_executing": false
    }
   }
  },
  {
   "cell_type": "code",
   "execution_count": 2,
   "outputs": [
    {
     "data": {
      "text/plain": "                id  experience\ncount   105.000000  105.000000\nmean   1375.476190    4.019048\nstd     406.648003    4.274209\nmin     871.000000    0.000000\n25%    1028.000000    1.000000\n50%    1303.000000    3.000000\n75%    1661.000000    5.000000\nmax    2311.000000   25.000000",
      "text/html": "<div>\n<style scoped>\n    .dataframe tbody tr th:only-of-type {\n        vertical-align: middle;\n    }\n\n    .dataframe tbody tr th {\n        vertical-align: top;\n    }\n\n    .dataframe thead th {\n        text-align: right;\n    }\n</style>\n<table border=\"1\" class=\"dataframe\">\n  <thead>\n    <tr style=\"text-align: right;\">\n      <th></th>\n      <th>id</th>\n      <th>experience</th>\n    </tr>\n  </thead>\n  <tbody>\n    <tr>\n      <th>count</th>\n      <td>105.000000</td>\n      <td>105.000000</td>\n    </tr>\n    <tr>\n      <th>mean</th>\n      <td>1375.476190</td>\n      <td>4.019048</td>\n    </tr>\n    <tr>\n      <th>std</th>\n      <td>406.648003</td>\n      <td>4.274209</td>\n    </tr>\n    <tr>\n      <th>min</th>\n      <td>871.000000</td>\n      <td>0.000000</td>\n    </tr>\n    <tr>\n      <th>25%</th>\n      <td>1028.000000</td>\n      <td>1.000000</td>\n    </tr>\n    <tr>\n      <th>50%</th>\n      <td>1303.000000</td>\n      <td>3.000000</td>\n    </tr>\n    <tr>\n      <th>75%</th>\n      <td>1661.000000</td>\n      <td>5.000000</td>\n    </tr>\n    <tr>\n      <th>max</th>\n      <td>2311.000000</td>\n      <td>25.000000</td>\n    </tr>\n  </tbody>\n</table>\n</div>"
     },
     "metadata": {},
     "output_type": "execute_result",
     "execution_count": 2
    },
    {
     "data": {
      "text/plain": "                id  experience\ncount    84.000000   84.000000\nmean   1465.654762    4.238095\nstd     406.227294    4.300796\nmin     871.000000    0.000000\n25%    1123.750000    2.000000\n50%    1403.000000    3.000000\n75%    1724.250000    5.000000\nmax    2311.000000   25.000000",
      "text/html": "<div>\n<style scoped>\n    .dataframe tbody tr th:only-of-type {\n        vertical-align: middle;\n    }\n\n    .dataframe tbody tr th {\n        vertical-align: top;\n    }\n\n    .dataframe thead th {\n        text-align: right;\n    }\n</style>\n<table border=\"1\" class=\"dataframe\">\n  <thead>\n    <tr style=\"text-align: right;\">\n      <th></th>\n      <th>id</th>\n      <th>experience</th>\n    </tr>\n  </thead>\n  <tbody>\n    <tr>\n      <th>count</th>\n      <td>84.000000</td>\n      <td>84.000000</td>\n    </tr>\n    <tr>\n      <th>mean</th>\n      <td>1465.654762</td>\n      <td>4.238095</td>\n    </tr>\n    <tr>\n      <th>std</th>\n      <td>406.227294</td>\n      <td>4.300796</td>\n    </tr>\n    <tr>\n      <th>min</th>\n      <td>871.000000</td>\n      <td>0.000000</td>\n    </tr>\n    <tr>\n      <th>25%</th>\n      <td>1123.750000</td>\n      <td>2.000000</td>\n    </tr>\n    <tr>\n      <th>50%</th>\n      <td>1403.000000</td>\n      <td>3.000000</td>\n    </tr>\n    <tr>\n      <th>75%</th>\n      <td>1724.250000</td>\n      <td>5.000000</td>\n    </tr>\n    <tr>\n      <th>max</th>\n      <td>2311.000000</td>\n      <td>25.000000</td>\n    </tr>\n  </tbody>\n</table>\n</div>"
     },
     "metadata": {},
     "output_type": "execute_result",
     "execution_count": 2
    },
    {
     "data": {
      "text/plain": "     id                  created  \\\n0   871  2019-07-30 12:23:53.241   \n1   872  2019-07-30 12:48:47.457   \n2   873  2019-07-30 12:53:52.298   \n3  1029  2019-07-30 15:34:10.342   \n4   878  2019-07-30 13:11:00.238   \n\n                                             missing  \\\n0  One comment that may. Have all categories or a...   \n1                                                NaN   \n2                                                NaN   \n3                                                NaN   \n4                                                NaN   \n\n                       email  experience     highest_degree  \\\n0  florianxbernard@gmail.com           0        self taught   \n1       jeremy.kubrak@uzh.ch           2  Bachelor's degree   \n2                        NaN           3  Bachelor's degree   \n3                        NaN           0            College   \n4                        NaN           4            College   \n\n           job_title comment self_assessment  \\\n0     PhD candidate      NaN        Moderate   \n1  Software Engineer     NaN        Moderate   \n2          Consultor     NaN        Moderate   \n3            Student     NaN        Moderate   \n4            student     NaN        Moderate   \n\n                        style_format  \n0                           Numpydoc  \n1  I don't follow a particular style  \n2                             Google  \n3  I don't follow a particular style  \n4  I don't follow a particular style  ",
      "text/html": "<div>\n<style scoped>\n    .dataframe tbody tr th:only-of-type {\n        vertical-align: middle;\n    }\n\n    .dataframe tbody tr th {\n        vertical-align: top;\n    }\n\n    .dataframe thead th {\n        text-align: right;\n    }\n</style>\n<table border=\"1\" class=\"dataframe\">\n  <thead>\n    <tr style=\"text-align: right;\">\n      <th></th>\n      <th>id</th>\n      <th>created</th>\n      <th>missing</th>\n      <th>email</th>\n      <th>experience</th>\n      <th>highest_degree</th>\n      <th>job_title</th>\n      <th>comment</th>\n      <th>self_assessment</th>\n      <th>style_format</th>\n    </tr>\n  </thead>\n  <tbody>\n    <tr>\n      <th>0</th>\n      <td>871</td>\n      <td>2019-07-30 12:23:53.241</td>\n      <td>One comment that may. Have all categories or a...</td>\n      <td>florianxbernard@gmail.com</td>\n      <td>0</td>\n      <td>self taught</td>\n      <td>PhD candidate</td>\n      <td>NaN</td>\n      <td>Moderate</td>\n      <td>Numpydoc</td>\n    </tr>\n    <tr>\n      <th>1</th>\n      <td>872</td>\n      <td>2019-07-30 12:48:47.457</td>\n      <td>NaN</td>\n      <td>jeremy.kubrak@uzh.ch</td>\n      <td>2</td>\n      <td>Bachelor's degree</td>\n      <td>Software Engineer</td>\n      <td>NaN</td>\n      <td>Moderate</td>\n      <td>I don't follow a particular style</td>\n    </tr>\n    <tr>\n      <th>2</th>\n      <td>873</td>\n      <td>2019-07-30 12:53:52.298</td>\n      <td>NaN</td>\n      <td>NaN</td>\n      <td>3</td>\n      <td>Bachelor's degree</td>\n      <td>Consultor</td>\n      <td>NaN</td>\n      <td>Moderate</td>\n      <td>Google</td>\n    </tr>\n    <tr>\n      <th>3</th>\n      <td>1029</td>\n      <td>2019-07-30 15:34:10.342</td>\n      <td>NaN</td>\n      <td>NaN</td>\n      <td>0</td>\n      <td>College</td>\n      <td>Student</td>\n      <td>NaN</td>\n      <td>Moderate</td>\n      <td>I don't follow a particular style</td>\n    </tr>\n    <tr>\n      <th>4</th>\n      <td>878</td>\n      <td>2019-07-30 13:11:00.238</td>\n      <td>NaN</td>\n      <td>NaN</td>\n      <td>4</td>\n      <td>College</td>\n      <td>student</td>\n      <td>NaN</td>\n      <td>Moderate</td>\n      <td>I don't follow a particular style</td>\n    </tr>\n  </tbody>\n</table>\n</div>"
     },
     "metadata": {},
     "output_type": "execute_result",
     "execution_count": 2
    }
   ],
   "source": [
    "participants = '../resource/classification-participants.csv'\n",
    "all_participants = '../resource/all-participants.csv'\n",
    "classification_participants_data = pd.read_csv(participants, delimiter=',', index_col=None)\n",
    "all_participants_data = pd.read_csv(all_participants, delimiter=',', index_col=None)\n",
    "all_participants_data.describe()\n",
    "df = classification_participants_data\n",
    "df.describe()\n",
    "df.head()\n",
    "\n"
   ],
   "metadata": {
    "collapsed": false,
    "pycharm": {
     "name": "#%%\n",
     "is_executing": false
    }
   }
  },
  {
   "cell_type": "markdown",
   "source": [
    "<h3>Analysis of Participant variety</h3>\n",
    "\n"
   ],
   "metadata": {
    "collapsed": false,
    "pycharm": {
     "name": "#%% md\n"
    }
   }
  },
  {
   "cell_type": "markdown",
   "source": [
    "<h4>Analysis of used Docstring Formats in Practice</h4>\n",
    "\n"
   ],
   "metadata": {
    "collapsed": false,
    "pycharm": {
     "name": "#%% md\n"
    }
   }
  },
  {
   "cell_type": "markdown",
   "source": [
    "<h4>Distribution of Python skills self-assessment</h4>\n"
   ],
   "metadata": {
    "collapsed": false,
    "pycharm": {
     "name": "#%% md\n"
    }
   }
  },
  {
   "cell_type": "code",
   "execution_count": 3,
   "outputs": [
    {
     "data": {
      "text/plain": "I don't follow a particular style                        64\nReStructuredText                                         12\nI don't write Python comments                            11\nGoogle                                                   10\nNumpydoc                                                  5\nEpytext                                                   2\nSorry, genuinely don't know. PyCharm's default style.     1\nName: style_format, dtype: int64"
     },
     "metadata": {},
     "output_type": "execute_result",
     "execution_count": 3
    },
    {
     "data": {
      "text/plain": "<matplotlib.axes._subplots.AxesSubplot at 0x1f194f975f8>"
     },
     "metadata": {},
     "output_type": "execute_result",
     "execution_count": 3
    },
    {
     "data": {
      "text/plain": "<Figure size 432x288 with 1 Axes>",
      "image/png": "[encoded data removed]"
     },
     "metadata": {
      "needs_background": "light"
     },
     "output_type": "display_data"
    }
   ],
   "source": [
    "pd.value_counts(all_participants_data[\"style_format\"])\n",
    "pd.value_counts(all_participants_data[\"style_format\"]).plot.bar()\n"
   ],
   "metadata": {
    "collapsed": false,
    "pycharm": {
     "name": "#%%\n",
     "is_executing": false
    }
   }
  },
  {
   "cell_type": "code",
   "execution_count": 5,
   "outputs": [
    {
     "data": {
      "text/plain": "<matplotlib.axes._subplots.AxesSubplot at 0x1f196334a20>"
     },
     "metadata": {},
     "output_type": "execute_result",
     "execution_count": 5
    },
    {
     "data": {
      "text/plain": "                   id                                                   \\\n                count         mean         std     min     25%     50%   \nself_assessment                                                          \nHigh             21.0  1304.714286  264.605205   976.0  1123.0  1303.0   \nLow              12.0  1771.833333  390.962178   954.0  1653.5  1726.5   \nModerate         49.0  1444.571429  417.094214   871.0  1069.0  1376.0   \nNone              2.0  1835.000000  548.714862  1447.0  1641.0  1835.0   \n\n                                 experience                                 \\\n                     75%     max      count      mean       std  min   25%   \nself_assessment                                                              \nHigh             1441.00  2073.0       21.0  7.142857  6.657971  0.0  4.00   \nLow              2075.25  2271.0       12.0  2.250000  2.094365  0.0  1.00   \nModerate         1722.00  2311.0       49.0  3.428571  2.500000  0.0  2.00   \nNone             2029.00  2223.0        2.0  5.500000  6.363961  1.0  3.25   \n\n                                  \n                 50%   75%   max  \nself_assessment                   \nHigh             5.0  7.00  25.0  \nLow              2.0  2.25   8.0  \nModerate         3.0  4.00  11.0  \nNone             5.5  7.75  10.0  ",
      "text/html": "<div>\n<style scoped>\n    .dataframe tbody tr th:only-of-type {\n        vertical-align: middle;\n    }\n\n    .dataframe tbody tr th {\n        vertical-align: top;\n    }\n\n    .dataframe thead tr th {\n        text-align: left;\n    }\n\n    .dataframe thead tr:last-of-type th {\n        text-align: right;\n    }\n</style>\n<table border=\"1\" class=\"dataframe\">\n  <thead>\n    <tr>\n      <th></th>\n      <th colspan=\"8\" halign=\"left\">id</th>\n      <th colspan=\"8\" halign=\"left\">experience</th>\n    </tr>\n    <tr>\n      <th></th>\n      <th>count</th>\n      <th>mean</th>\n      <th>std</th>\n      <th>min</th>\n      <th>25%</th>\n      <th>50%</th>\n      <th>75%</th>\n      <th>max</th>\n      <th>count</th>\n      <th>mean</th>\n      <th>std</th>\n      <th>min</th>\n      <th>25%</th>\n      <th>50%</th>\n      <th>75%</th>\n      <th>max</th>\n    </tr>\n    <tr>\n      <th>self_assessment</th>\n      <th></th>\n      <th></th>\n      <th></th>\n      <th></th>\n      <th></th>\n      <th></th>\n      <th></th>\n      <th></th>\n      <th></th>\n      <th></th>\n      <th></th>\n      <th></th>\n      <th></th>\n      <th></th>\n      <th></th>\n      <th></th>\n    </tr>\n  </thead>\n  <tbody>\n    <tr>\n      <th>High</th>\n      <td>21.0</td>\n      <td>1304.714286</td>\n      <td>264.605205</td>\n      <td>976.0</td>\n      <td>1123.0</td>\n      <td>1303.0</td>\n      <td>1441.00</td>\n      <td>2073.0</td>\n      <td>21.0</td>\n      <td>7.142857</td>\n      <td>6.657971</td>\n      <td>0.0</td>\n      <td>4.00</td>\n      <td>5.0</td>\n      <td>7.00</td>\n      <td>25.0</td>\n    </tr>\n    <tr>\n      <th>Low</th>\n      <td>12.0</td>\n      <td>1771.833333</td>\n      <td>390.962178</td>\n      <td>954.0</td>\n      <td>1653.5</td>\n      <td>1726.5</td>\n      <td>2075.25</td>\n      <td>2271.0</td>\n      <td>12.0</td>\n      <td>2.250000</td>\n      <td>2.094365</td>\n      <td>0.0</td>\n      <td>1.00</td>\n      <td>2.0</td>\n      <td>2.25</td>\n      <td>8.0</td>\n    </tr>\n    <tr>\n      <th>Moderate</th>\n      <td>49.0</td>\n      <td>1444.571429</td>\n      <td>417.094214</td>\n      <td>871.0</td>\n      <td>1069.0</td>\n      <td>1376.0</td>\n      <td>1722.00</td>\n      <td>2311.0</td>\n      <td>49.0</td>\n      <td>3.428571</td>\n      <td>2.500000</td>\n      <td>0.0</td>\n      <td>2.00</td>\n      <td>3.0</td>\n      <td>4.00</td>\n      <td>11.0</td>\n    </tr>\n    <tr>\n      <th>None</th>\n      <td>2.0</td>\n      <td>1835.000000</td>\n      <td>548.714862</td>\n      <td>1447.0</td>\n      <td>1641.0</td>\n      <td>1835.0</td>\n      <td>2029.00</td>\n      <td>2223.0</td>\n      <td>2.0</td>\n      <td>5.500000</td>\n      <td>6.363961</td>\n      <td>1.0</td>\n      <td>3.25</td>\n      <td>5.5</td>\n      <td>7.75</td>\n      <td>10.0</td>\n    </tr>\n  </tbody>\n</table>\n</div>"
     },
     "metadata": {},
     "output_type": "execute_result",
     "execution_count": 5
    },
    {
     "data": {
      "text/plain": "<Figure size 432x288 with 1 Axes>",
      "image/png": "[encoded data removed]"
     },
     "metadata": {
      "needs_background": "light"
     },
     "output_type": "display_data"
    }
   ],
   "source": [
    "pd.value_counts(df[\"self_assessment\"]).plot.bar()\n",
    "assessment_groups = df.groupby(\"self_assessment\")\n",
    "assessment_groups.describe()\n"
   ],
   "metadata": {
    "collapsed": false,
    "pycharm": {
     "name": "#%%\n",
     "is_executing": false
    }
   }
  },
  {
   "cell_type": "markdown",
   "source": [
    "<h4>Distribution of experience</h4>\n"
   ],
   "metadata": {
    "collapsed": false,
    "pycharm": {
     "name": "#%% md\n"
    }
   }
  },
  {
   "cell_type": "code",
   "execution_count": 6,
   "outputs": [
    {
     "data": {
      "text/plain": "count    84.000000\nmean      4.238095\nstd       4.300796\nmin       0.000000\n25%       2.000000\n50%       3.000000\n75%       5.000000\nmax      25.000000\nName: experience, dtype: float64"
     },
     "metadata": {},
     "output_type": "execute_result",
     "execution_count": 6
    },
    {
     "data": {
      "text/plain": "       experience\ncount   84.000000\nmean     4.238095\nstd      4.300796\nmin      0.000000\n25%      2.000000\n50%      3.000000\n75%      5.000000\nmax     25.000000",
      "text/html": "<div>\n<style scoped>\n    .dataframe tbody tr th:only-of-type {\n        vertical-align: middle;\n    }\n\n    .dataframe tbody tr th {\n        vertical-align: top;\n    }\n\n    .dataframe thead th {\n        text-align: right;\n    }\n</style>\n<table border=\"1\" class=\"dataframe\">\n  <thead>\n    <tr style=\"text-align: right;\">\n      <th></th>\n      <th>experience</th>\n    </tr>\n  </thead>\n  <tbody>\n    <tr>\n      <th>count</th>\n      <td>84.000000</td>\n    </tr>\n    <tr>\n      <th>mean</th>\n      <td>4.238095</td>\n    </tr>\n    <tr>\n      <th>std</th>\n      <td>4.300796</td>\n    </tr>\n    <tr>\n      <th>min</th>\n      <td>0.000000</td>\n    </tr>\n    <tr>\n      <th>25%</th>\n      <td>2.000000</td>\n    </tr>\n    <tr>\n      <th>50%</th>\n      <td>3.000000</td>\n    </tr>\n    <tr>\n      <th>75%</th>\n      <td>5.000000</td>\n    </tr>\n    <tr>\n      <th>max</th>\n      <td>25.000000</td>\n    </tr>\n  </tbody>\n</table>\n</div>"
     },
     "metadata": {},
     "output_type": "execute_result",
     "execution_count": 6
    },
    {
     "data": {
      "text/plain": "{'bodies': [<matplotlib.collections.PolyCollection at 0x1f1963d1b70>],\n 'cmaxes': <matplotlib.collections.LineCollection at 0x1f196393b70>,\n 'cmins': <matplotlib.collections.LineCollection at 0x1f1963d1f98>,\n 'cbars': <matplotlib.collections.LineCollection at 0x1f1963d1fd0>}"
     },
     "metadata": {},
     "output_type": "execute_result",
     "execution_count": 6
    },
    {
     "data": {
      "text/plain": "Text(0, 0.5, 'Distribution of Professional Experience')"
     },
     "metadata": {},
     "output_type": "execute_result",
     "execution_count": 6
    },
    {
     "data": {
      "text/plain": "([<matplotlib.axis.YTick at 0x1f1963c2dd8>],\n <a list of 0 Text yticklabel objects>)"
     },
     "metadata": {},
     "output_type": "execute_result",
     "execution_count": 6
    },
    {
     "data": {
      "text/plain": "Text(0.5, 0, 'Years')"
     },
     "metadata": {},
     "output_type": "execute_result",
     "execution_count": 6
    },
    {
     "data": {
      "text/plain": "<Figure size 432x288 with 1 Axes>",
      "image/png": "[encoded data removed]"
     },
     "metadata": {
      "needs_background": "light"
     },
     "output_type": "display_data"
    }
   ],
   "source": [
    "\n",
    "df[\"experience\"].describe()\n",
    "#plt.plot(range(0, len(df[\"experience\"])), df[\"experience\"].sort_values(ascending=False))\n",
    "#plt.xlabel(\"Number of Different Plugins\")\n",
    "#plt.ylabel(\"Number of Declarations\")\n",
    "pd.DataFrame(df[\"experience\"]).describe()\n",
    "plt.violinplot(df[\"experience\"], vert=False)\n",
    "plt.ylabel(\"Distribution of Professional Experience\")\n",
    "plt.yticks(np.arange(1),\"\")\n",
    "plt.xlabel(\"Years\")\n",
    "plt.savefig(\"boxplot_experience_distribution.png\")\n",
    "\n"
   ],
   "metadata": {
    "collapsed": false,
    "pycharm": {
     "name": "#%%\n",
     "is_executing": false
    }
   }
  },
  {
   "cell_type": "markdown",
   "source": [
    "<h4>Distribution of highest degree related to computer science</h4>\n"
   ],
   "metadata": {
    "collapsed": false,
    "pycharm": {
     "name": "#%% md\n"
    }
   }
  },
  {
   "cell_type": "code",
   "execution_count": 7,
   "outputs": [
    {
     "data": {
      "text/plain": "                                                    highest_degree\nBachelor's degree                                               33\nMaster's degree                                                 14\nHigh School                                                     12\nCollege                                                         10\nSelf-taught                                                      5\nDoctorate degree                                                 4\nNo degrees related to CS.                                        1\ndegree in physics, experience as research devel...               1\nself taught                                                      1\nIn school Pershing bachelors                                     1\nBootcamp                                                         1\nProfessional degree                                              1",
      "text/html": "<div>\n<style scoped>\n    .dataframe tbody tr th:only-of-type {\n        vertical-align: middle;\n    }\n\n    .dataframe tbody tr th {\n        vertical-align: top;\n    }\n\n    .dataframe thead th {\n        text-align: right;\n    }\n</style>\n<table border=\"1\" class=\"dataframe\">\n  <thead>\n    <tr style=\"text-align: right;\">\n      <th></th>\n      <th>highest_degree</th>\n    </tr>\n  </thead>\n  <tbody>\n    <tr>\n      <th>Bachelor's degree</th>\n      <td>33</td>\n    </tr>\n    <tr>\n      <th>Master's degree</th>\n      <td>14</td>\n    </tr>\n    <tr>\n      <th>High School</th>\n      <td>12</td>\n    </tr>\n    <tr>\n      <th>College</th>\n      <td>10</td>\n    </tr>\n    <tr>\n      <th>Self-taught</th>\n      <td>5</td>\n    </tr>\n    <tr>\n      <th>Doctorate degree</th>\n      <td>4</td>\n    </tr>\n    <tr>\n      <th>No degrees related to CS.</th>\n      <td>1</td>\n    </tr>\n    <tr>\n      <th>degree in physics, experience as research developer for 25 years.</th>\n      <td>1</td>\n    </tr>\n    <tr>\n      <th>self taught</th>\n      <td>1</td>\n    </tr>\n    <tr>\n      <th>In school Pershing bachelors</th>\n      <td>1</td>\n    </tr>\n    <tr>\n      <th>Bootcamp</th>\n      <td>1</td>\n    </tr>\n    <tr>\n      <th>Professional degree</th>\n      <td>1</td>\n    </tr>\n  </tbody>\n</table>\n</div>"
     },
     "metadata": {},
     "output_type": "execute_result",
     "execution_count": 7
    },
    {
     "data": {
      "text/plain": "<matplotlib.axes._subplots.AxesSubplot at 0x1f1963f0b38>"
     },
     "metadata": {},
     "output_type": "execute_result",
     "execution_count": 7
    },
    {
     "data": {
      "text/plain": "<Figure size 432x288 with 1 Axes>",
      "image/png": "[encoded data removed]"
     },
     "metadata": {
      "needs_background": "light"
     },
     "output_type": "display_data"
    }
   ],
   "source": [
    "degrees = pd.DataFrame(pd.value_counts(df[\"highest_degree\"]))\n",
    "degrees\n",
    "\n",
    "degrees[degrees.highest_degree > 1].plot.bar()\n"
   ],
   "metadata": {
    "collapsed": false,
    "pycharm": {
     "name": "#%%\n",
     "is_executing": false
    }
   }
  },
  {
   "cell_type": "markdown",
   "source": [
    "<h4>Different job Titles</h4>\n"
   ],
   "metadata": {
    "collapsed": false,
    "pycharm": {
     "name": "#%% md\n"
    }
   }
  },
  {
   "cell_type": "code",
   "execution_count": 8,
   "outputs": [
    {
     "data": {
      "text/plain": "0                                        PhD candidate \n1                                     Software Engineer\n2                                             Consultor\n3                                               Student\n4                                               student\n5                                                Intern\n6                                  Unemployed/In School\n7                                   EDI Systems Analyst\n8                                            SWE Intern\n9                            Senior Research Programmer\n10                                    software engineer\n11                                  Research Assistant \n12                             Software Engineer Intern\n13                                          PhD student\n14                                  Senior data analyst\n15                                      DevOps Engineer\n16                                 Full stack engineer \n17    Wireless Systems API Developer, Server Securit...\n18                                               Intern\n19                                     Masters Student \n20                          Backend Developer (Minijob)\n21                                     Devops Architect\n22                         part time software developer\n23                                               Junior\n24                                   software developer\n25                                   Teaching Assistant\n26                                  Business Generalist\n27                                                  CTO\n28                                          Sr engineer\n29                                        IT consultant\n                            ...                        \n54                                     Network Engineer\n55                                              Student\n56                                   Software developer\n57                                              student\n58                   Application Development Specialist\n59                                   Research Associate\n60                                             Sysadmin\n61                                   Software developer\n62                                    Senior Researcher\n63                                        self employed\n64                            software developer intern\n65                                     DevOps Developer\n66                                              student\n67                                              analyst\n68                                   Backend Developper\n69                                         data analyst\n70                                   Software Developer\n71                                   Software Developer\n72                                 Full stack developer\n73                             software engineer intern\n74                                   Software Developer\n75                             Senior software engineer\n76                                           freelancer\n77                                   software developer\n78                                   software developer\n79                                                    -\n80                                                    -\n81                                                    -\n82                                                    -\n83                                        self-employed\nName: job_title, Length: 84, dtype: object"
     },
     "metadata": {},
     "output_type": "execute_result",
     "execution_count": 8
    },
    {
     "data": {
      "text/plain": "56"
     },
     "metadata": {},
     "output_type": "execute_result",
     "execution_count": 8
    }
   ],
   "source": [
    "job_titles = df[\"job_title\"]\n",
    "job_titles\n",
    "job_titles = [i.lower() for i in job_titles]\n",
    "job_titles = set(job_titles)\n",
    "len(job_titles)\n",
    "\n"
   ],
   "metadata": {
    "collapsed": false,
    "pycharm": {
     "name": "#%%\n",
     "is_executing": false
    }
   }
  },
  {
   "cell_type": "code",
   "execution_count": null,
   "outputs": [],
   "source": [
    "\n"
   ],
   "metadata": {
    "collapsed": false,
    "pycharm": {
     "name": "#%%\n"
    }
   }
  }
 ],
 "metadata": {
  "language_info": {
   "codemirror_mode": {
    "name": "ipython",
    "version": 2
   },
   "file_extension": ".py",
   "mimetype": "text/x-python",
   "name": "python",
   "nbconvert_exporter": "python",
   "pygments_lexer": "ipython2",
   "version": "2.7.6"
  },
  "kernelspec": {
   "name": "python3",
   "language": "python",
   "display_name": "Python 3"
  },
  "pycharm": {
   "stem_cell": {
    "cell_type": "raw",
    "source": [],
    "metadata": {
     "collapsed": false
    }
   }
  }
 },
 "nbformat": 4,
 "nbformat_minor": 0
}