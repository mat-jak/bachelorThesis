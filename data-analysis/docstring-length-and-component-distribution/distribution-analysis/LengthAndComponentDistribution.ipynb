{
 "cells": [
  {
   "cell_type": "code",
   "execution_count": 10,
   "metadata": {
    "collapsed": true,
    "pycharm": {
     "name": "#%%\n",
     "is_executing": false
    }
   },
   "outputs": [],
   "source": [
    "\n",
    "import numpy as np\n",
    "import matplotlib.pyplot as plt\n",
    "from matplotlib.ticker import StrMethodFormatter\n",
    "import scipy as sp\n",
    "import scipy.stats as stats\n",
    "import pandas as pd\n",
    "\n",
    "from IPython.core.interactiveshell import InteractiveShell\n",
    "InteractiveShell.ast_node_interactivity = \"all\"\n"
   ]
  },
  {
   "cell_type": "markdown",
   "source": [
    "Read json to dataframe:\n"
   ],
   "metadata": {
    "collapsed": false
   }
  },
  {
   "cell_type": "code",
   "execution_count": 11,
   "outputs": [],
   "source": [
    "json = '../resource/allDocstrings.json'\n",
    "data = pd.read_json(json)\n",
    "df = pd.DataFrame(data)\n",
    "\n",
    "\n",
    "#We are only interessted in number of lines, container type and implementation type\n",
    "distribution_df = pd.DataFrame(df, columns=['docstringContainerType', 'numberOfLines', 'docstringContainerImplementationType'] )\n",
    "\n"
   ],
   "metadata": {
    "collapsed": false,
    "pycharm": {
     "name": "#%%\n",
     "is_executing": false
    }
   }
  },
  {
   "cell_type": "markdown",
   "source": [
    "Function for removing outliers:\n"
   ],
   "metadata": {
    "collapsed": false,
    "pycharm": {
     "name": "#%% md\n"
    }
   }
  },
  {
   "cell_type": "code",
   "execution_count": 12,
   "outputs": [],
   "source": [
    "def remove_outlier(df_in, col_name):\n",
    "    q1 = df_in[col_name].quantile(0.25)\n",
    "    q3 = df_in[col_name].quantile(0.75)\n",
    "    iqr = q3-q1 #Interquartile range\n",
    "    fence_low = q1-1.5*iqr\n",
    "    fence_high = q3+1.5*iqr\n",
    "    df_out = df_in.loc[(df_in[col_name] > fence_low) & (df_in[col_name] < fence_high)]\n",
    "    return df_out\n"
   ],
   "metadata": {
    "collapsed": false,
    "pycharm": {
     "name": "#%%\n",
     "is_executing": false
    }
   }
  },
  {
   "cell_type": "markdown",
   "source": [
    "<h3>Length Distribution of Docstrings</h3>\n"
   ],
   "metadata": {
    "collapsed": false,
    "pycharm": {
     "name": "#%% md\n"
    }
   }
  },
  {
   "cell_type": "code",
   "execution_count": 14,
   "outputs": [],
   "source": [
    "#df[\"numberOfLines\"].plot()\n",
    "\n",
    "#plt.plot(range(0, len(df[\"numberOfLines\"])), df[\"numberOfLines\"].sort_values(ascending=False))\n",
    "#plt.xlabel(\"Number of Lines\")\n",
    "#plt.ylabel(\"Amount of Docstrings\")\n",
    "#plt.savefig(\"length_distribution.png\")\n",
    "\n"
   ],
   "metadata": {
    "collapsed": false,
    "pycharm": {
     "name": "#%%\n",
     "is_executing": false
    }
   }
  },
  {
   "cell_type": "markdown",
   "source": [
    "<h4>distribution of docstring length of first 95%</h4>\n"
   ],
   "metadata": {
    "collapsed": false,
    "pycharm": {
     "name": "#%% md\n"
    }
   }
  },
  {
   "cell_type": "code",
   "execution_count": 15,
   "outputs": [
    {
     "data": {
      "text/plain": "       numberOfLines      startLine\ncount  144016.000000  144016.000000\nmean        2.769908     382.351378\nstd         3.136909     660.537189\nmin         1.000000       1.000000\n25%         1.000000      56.000000\n50%         1.000000     157.000000\n75%         3.000000     408.000000\nmax        16.000000   15849.000000",
      "text/html": "<div>\n<style scoped>\n    .dataframe tbody tr th:only-of-type {\n        vertical-align: middle;\n    }\n\n    .dataframe tbody tr th {\n        vertical-align: top;\n    }\n\n    .dataframe thead th {\n        text-align: right;\n    }\n</style>\n<table border=\"1\" class=\"dataframe\">\n  <thead>\n    <tr style=\"text-align: right;\">\n      <th></th>\n      <th>numberOfLines</th>\n      <th>startLine</th>\n    </tr>\n  </thead>\n  <tbody>\n    <tr>\n      <th>count</th>\n      <td>144016.000000</td>\n      <td>144016.000000</td>\n    </tr>\n    <tr>\n      <th>mean</th>\n      <td>2.769908</td>\n      <td>382.351378</td>\n    </tr>\n    <tr>\n      <th>std</th>\n      <td>3.136909</td>\n      <td>660.537189</td>\n    </tr>\n    <tr>\n      <th>min</th>\n      <td>1.000000</td>\n      <td>1.000000</td>\n    </tr>\n    <tr>\n      <th>25%</th>\n      <td>1.000000</td>\n      <td>56.000000</td>\n    </tr>\n    <tr>\n      <th>50%</th>\n      <td>1.000000</td>\n      <td>157.000000</td>\n    </tr>\n    <tr>\n      <th>75%</th>\n      <td>3.000000</td>\n      <td>408.000000</td>\n    </tr>\n    <tr>\n      <th>max</th>\n      <td>16.000000</td>\n      <td>15849.000000</td>\n    </tr>\n  </tbody>\n</table>\n</div>"
     },
     "metadata": {},
     "output_type": "execute_result",
     "execution_count": 15
    },
    {
     "data": {
      "text/plain": "<matplotlib.axes._subplots.AxesSubplot at 0x1b5be8da2b0>"
     },
     "metadata": {},
     "output_type": "execute_result",
     "execution_count": 15
    },
    {
     "data": {
      "text/plain": "85091"
     },
     "metadata": {},
     "output_type": "execute_result",
     "execution_count": 15
    },
    {
     "data": {
      "text/plain": "151740"
     },
     "metadata": {},
     "output_type": "execute_result",
     "execution_count": 15
    },
    {
     "data": {
      "text/plain": "56.076841966521684"
     },
     "metadata": {},
     "output_type": "execute_result",
     "execution_count": 15
    },
    {
     "data": {
      "text/plain": "Text(0.5, 0, 'Number of Lines')"
     },
     "metadata": {},
     "output_type": "execute_result",
     "execution_count": 15
    },
    {
     "data": {
      "text/plain": "Text(0, 0.5, 'Amount of Docstrings')"
     },
     "metadata": {},
     "output_type": "execute_result",
     "execution_count": 15
    },
    {
     "data": {
      "text/plain": "<Figure size 432x288 with 1 Axes>",
      "image/png": "[encoded data removed]"
     },
     "metadata": {
      "needs_background": "light"
     },
     "output_type": "display_data"
    }
   ],
   "source": [
    "first_95_percent = df.loc[(df.numberOfLines <= df[\"numberOfLines\"].quantile(0.95)) & (df.numberOfLines > 0)]\n",
    "first_95_percent.describe()\n",
    "pd.value_counts(first_95_percent[\"numberOfLines\"]).plot.bar()\n",
    "one_liner_count = len(df.loc[df.numberOfLines == 1].index)\n",
    "one_liner_count\n",
    "docstrings_count = len(df.index)\n",
    "docstrings_count\n",
    "\n",
    "percentage_of_oneliner = one_liner_count/docstrings_count * 100\n",
    "percentage_of_oneliner\n",
    "\n",
    "plt.xlabel(\"Number of Lines\")\n",
    "plt.ylabel(\"Amount of Docstrings\")\n",
    "plt.savefig(\"length_distribution.png\")\n"
   ],
   "metadata": {
    "collapsed": false,
    "pycharm": {
     "name": "#%%\n",
     "is_executing": false
    }
   }
  },
  {
   "cell_type": "markdown",
   "source": [
    "<h4>Distribution according to Docstring Container</h4>\n"
   ],
   "metadata": {
    "collapsed": false,
    "pycharm": {
     "name": "#%% md\n"
    }
   }
  },
  {
   "cell_type": "code",
   "execution_count": 16,
   "outputs": [
    {
     "data": {
      "text/plain": "118635"
     },
     "metadata": {},
     "output_type": "execute_result",
     "execution_count": 16
    },
    {
     "data": {
      "text/plain": "18357"
     },
     "metadata": {},
     "output_type": "execute_result",
     "execution_count": 16
    },
    {
     "data": {
      "text/plain": "14748"
     },
     "metadata": {},
     "output_type": "execute_result",
     "execution_count": 16
    },
    {
     "data": {
      "text/plain": "78.18307631474892"
     },
     "metadata": {},
     "output_type": "execute_result",
     "execution_count": 16
    },
    {
     "data": {
      "text/plain": "12.097667062079873"
     },
     "metadata": {},
     "output_type": "execute_result",
     "execution_count": 16
    },
    {
     "data": {
      "text/plain": "9.719256623171214"
     },
     "metadata": {},
     "output_type": "execute_result",
     "execution_count": 16
    }
   ],
   "source": [
    "\n",
    "#Create dataframes for every group according to docstring container\n",
    "\n",
    "functions = df[df.docstringContainerType == 'FUNCTION']\n",
    "\n",
    "classes = df[df.docstringContainerType == 'CLASS']\n",
    "\n",
    "modules = df[df.docstringContainerType == 'MODULE']\n",
    "\n",
    "#Get element count for every group\n",
    "\n",
    "functions_count = len(functions.index)\n",
    "\n",
    "classes_count = len(classes.index)\n",
    "\n",
    "modules_count = len(modules.index)\n",
    "\n",
    "functions_count\n",
    "classes_count\n",
    "modules_count\n",
    "\n",
    "#Get percentage of elements of every group\n",
    "\n",
    "functions_percentage = functions_count/docstrings_count * 100\n",
    "classes_percentage = classes_count/docstrings_count * 100\n",
    "modules_percentage = modules_count/docstrings_count * 100\n",
    "\n",
    "functions_percentage\n",
    "classes_percentage\n",
    "modules_percentage\n"
   ],
   "metadata": {
    "collapsed": false,
    "pycharm": {
     "name": "#%%\n",
     "is_executing": false
    }
   }
  },
  {
   "cell_type": "markdown",
   "source": [
    "<h4>Length Distribution according to Docstring Container</h4>\n"
   ],
   "metadata": {
    "collapsed": false,
    "pycharm": {
     "name": "#%% md\n"
    }
   }
  },
  {
   "cell_type": "code",
   "execution_count": 17,
   "outputs": [
    {
     "data": {
      "text/plain": "<matplotlib.axes._subplots.AxesSubplot at 0x1b5be6ea518>"
     },
     "metadata": {},
     "output_type": "execute_result",
     "execution_count": 17
    },
    {
     "data": {
      "text/plain": "Text(0.5, 0, 'Number of Lines')"
     },
     "metadata": {},
     "output_type": "execute_result",
     "execution_count": 17
    },
    {
     "data": {
      "text/plain": "Text(0, 0.5, 'Amount of Docstrings')"
     },
     "metadata": {},
     "output_type": "execute_result",
     "execution_count": 17
    },
    {
     "data": {
      "text/plain": "<matplotlib.axes._subplots.AxesSubplot at 0x1b5be6ea518>"
     },
     "metadata": {},
     "output_type": "execute_result",
     "execution_count": 17
    },
    {
     "data": {
      "text/plain": "<matplotlib.axes._subplots.AxesSubplot at 0x1b5be6ea518>"
     },
     "metadata": {},
     "output_type": "execute_result",
     "execution_count": 17
    },
    {
     "data": {
      "text/plain": "       numberOfLines     startLine\ncount   43394.000000  43394.000000\nmean        6.167028    580.627852\nstd         4.306482    866.311990\nmin         2.000000      2.000000\n25%         3.000000    120.000000\n50%         5.000000    281.000000\n75%         8.000000    671.000000\nmax        20.000000  15849.000000",
      "text/html": "<div>\n<style scoped>\n    .dataframe tbody tr th:only-of-type {\n        vertical-align: middle;\n    }\n\n    .dataframe tbody tr th {\n        vertical-align: top;\n    }\n\n    .dataframe thead th {\n        text-align: right;\n    }\n</style>\n<table border=\"1\" class=\"dataframe\">\n  <thead>\n    <tr style=\"text-align: right;\">\n      <th></th>\n      <th>numberOfLines</th>\n      <th>startLine</th>\n    </tr>\n  </thead>\n  <tbody>\n    <tr>\n      <th>count</th>\n      <td>43394.000000</td>\n      <td>43394.000000</td>\n    </tr>\n    <tr>\n      <th>mean</th>\n      <td>6.167028</td>\n      <td>580.627852</td>\n    </tr>\n    <tr>\n      <th>std</th>\n      <td>4.306482</td>\n      <td>866.311990</td>\n    </tr>\n    <tr>\n      <th>min</th>\n      <td>2.000000</td>\n      <td>2.000000</td>\n    </tr>\n    <tr>\n      <th>25%</th>\n      <td>3.000000</td>\n      <td>120.000000</td>\n    </tr>\n    <tr>\n      <th>50%</th>\n      <td>5.000000</td>\n      <td>281.000000</td>\n    </tr>\n    <tr>\n      <th>75%</th>\n      <td>8.000000</td>\n      <td>671.000000</td>\n    </tr>\n    <tr>\n      <th>max</th>\n      <td>20.000000</td>\n      <td>15849.000000</td>\n    </tr>\n  </tbody>\n</table>\n</div>"
     },
     "metadata": {},
     "output_type": "execute_result",
     "execution_count": 17
    },
    {
     "data": {
      "text/plain": "       numberOfLines    startLine\ncount    5802.000000  5802.000000\nmean        5.804550   370.995519\nstd         4.700262   551.373224\nmin         2.000000     2.000000\n25%         2.000000    44.000000\n50%         4.000000   151.000000\n75%         7.000000   453.000000\nmax        22.000000  5847.000000",
      "text/html": "<div>\n<style scoped>\n    .dataframe tbody tr th:only-of-type {\n        vertical-align: middle;\n    }\n\n    .dataframe tbody tr th {\n        vertical-align: top;\n    }\n\n    .dataframe thead th {\n        text-align: right;\n    }\n</style>\n<table border=\"1\" class=\"dataframe\">\n  <thead>\n    <tr style=\"text-align: right;\">\n      <th></th>\n      <th>numberOfLines</th>\n      <th>startLine</th>\n    </tr>\n  </thead>\n  <tbody>\n    <tr>\n      <th>count</th>\n      <td>5802.000000</td>\n      <td>5802.000000</td>\n    </tr>\n    <tr>\n      <th>mean</th>\n      <td>5.804550</td>\n      <td>370.995519</td>\n    </tr>\n    <tr>\n      <th>std</th>\n      <td>4.700262</td>\n      <td>551.373224</td>\n    </tr>\n    <tr>\n      <th>min</th>\n      <td>2.000000</td>\n      <td>2.000000</td>\n    </tr>\n    <tr>\n      <th>25%</th>\n      <td>2.000000</td>\n      <td>44.000000</td>\n    </tr>\n    <tr>\n      <th>50%</th>\n      <td>4.000000</td>\n      <td>151.000000</td>\n    </tr>\n    <tr>\n      <th>75%</th>\n      <td>7.000000</td>\n      <td>453.000000</td>\n    </tr>\n    <tr>\n      <th>max</th>\n      <td>22.000000</td>\n      <td>5847.000000</td>\n    </tr>\n  </tbody>\n</table>\n</div>"
     },
     "metadata": {},
     "output_type": "execute_result",
     "execution_count": 17
    },
    {
     "data": {
      "text/plain": "       numberOfLines    startLine\ncount    5450.000000  5450.000000\nmean        6.985688     3.872110\nstd         5.822809     5.535747\nmin         2.000000     1.000000\n25%         3.000000     1.000000\n50%         4.000000     2.000000\n75%         9.000000     3.000000\nmax        27.000000    59.000000",
      "text/html": "<div>\n<style scoped>\n    .dataframe tbody tr th:only-of-type {\n        vertical-align: middle;\n    }\n\n    .dataframe tbody tr th {\n        vertical-align: top;\n    }\n\n    .dataframe thead th {\n        text-align: right;\n    }\n</style>\n<table border=\"1\" class=\"dataframe\">\n  <thead>\n    <tr style=\"text-align: right;\">\n      <th></th>\n      <th>numberOfLines</th>\n      <th>startLine</th>\n    </tr>\n  </thead>\n  <tbody>\n    <tr>\n      <th>count</th>\n      <td>5450.000000</td>\n      <td>5450.000000</td>\n    </tr>\n    <tr>\n      <th>mean</th>\n      <td>6.985688</td>\n      <td>3.872110</td>\n    </tr>\n    <tr>\n      <th>std</th>\n      <td>5.822809</td>\n      <td>5.535747</td>\n    </tr>\n    <tr>\n      <th>min</th>\n      <td>2.000000</td>\n      <td>1.000000</td>\n    </tr>\n    <tr>\n      <th>25%</th>\n      <td>3.000000</td>\n      <td>1.000000</td>\n    </tr>\n    <tr>\n      <th>50%</th>\n      <td>4.000000</td>\n      <td>2.000000</td>\n    </tr>\n    <tr>\n      <th>75%</th>\n      <td>9.000000</td>\n      <td>3.000000</td>\n    </tr>\n    <tr>\n      <th>max</th>\n      <td>27.000000</td>\n      <td>59.000000</td>\n    </tr>\n  </tbody>\n</table>\n</div>"
     },
     "metadata": {},
     "output_type": "execute_result",
     "execution_count": 17
    },
    {
     "data": {
      "text/plain": "<Figure size 432x288 with 1 Axes>",
      "image/png": "[encoded data removed]"
     },
     "metadata": {
      "needs_background": "light"
     },
     "output_type": "display_data"
    }
   ],
   "source": [
    "\n",
    "#Remove one-liner docstrings\n",
    "\n",
    "functions = functions[functions.numberOfLines > 1]\n",
    "classes = classes[classes.numberOfLines > 1]\n",
    "modules = modules[modules.numberOfLines > 1]\n",
    "\n",
    "#remove Tests:\n",
    "\n",
    "functions_without_tests = functions[functions.docstringContainerImplementationType != \"TEST\"]\n",
    "classes_without_tests = classes[classes.docstringContainerImplementationType != \"TEST\"]\n",
    "modules_without_tests = modules[modules.docstringContainerImplementationType != \"TEST\"]\n",
    "\n",
    "\n",
    "#First remove the outliners:\n",
    "\n",
    "functions_without_outliers = remove_outlier(functions_without_tests, \"numberOfLines\")\n",
    "classes_without_outliers = remove_outlier(classes_without_tests, \"numberOfLines\")\n",
    "modules_without_outliers = remove_outlier(modules_without_tests, \"numberOfLines\")\n",
    "\n",
    "\n",
    "#Plot length distribution without one-liners and outliers:\n",
    "\n",
    "pd.value_counts(functions_without_outliers[\"numberOfLines\"]).plot.bar()\n",
    "\n",
    "plt.xlabel(\"Number of Lines\")\n",
    "plt.ylabel(\"Amount of Docstrings\")\n",
    "plt.savefig(\"functions_length_distribution.png\")\n",
    "\n",
    "\n",
    "pd.value_counts(classes_without_outliers[\"numberOfLines\"]).plot.bar()\n",
    "pd.value_counts(modules_without_outliers[\"numberOfLines\"]).plot.bar()\n",
    "\n",
    "\n",
    "#Describe all groups, get q1, and q3:\n",
    "\n",
    "functions_without_outliers.describe()\n",
    "classes_without_outliers.describe()\n",
    "modules_without_outliers.describe()\n"
   ],
   "metadata": {
    "collapsed": false,
    "pycharm": {
     "name": "#%%\n",
     "is_executing": false
    }
   }
  },
  {
   "cell_type": "code",
   "execution_count": 18,
   "outputs": [
    {
     "data": {
      "text/plain": "       numberOfLines     startLine\ncount   54296.000000  54296.000000\nmean        6.101370    503.517497\nstd         4.334958    813.776176\nmin         2.000000      1.000000\n25%         3.000000     73.000000\n50%         5.000000    224.000000\n75%         8.000000    582.000000\nmax        20.000000  15849.000000",
      "text/html": "<div>\n<style scoped>\n    .dataframe tbody tr th:only-of-type {\n        vertical-align: middle;\n    }\n\n    .dataframe tbody tr th {\n        vertical-align: top;\n    }\n\n    .dataframe thead th {\n        text-align: right;\n    }\n</style>\n<table border=\"1\" class=\"dataframe\">\n  <thead>\n    <tr style=\"text-align: right;\">\n      <th></th>\n      <th>numberOfLines</th>\n      <th>startLine</th>\n    </tr>\n  </thead>\n  <tbody>\n    <tr>\n      <th>count</th>\n      <td>54296.000000</td>\n      <td>54296.000000</td>\n    </tr>\n    <tr>\n      <th>mean</th>\n      <td>6.101370</td>\n      <td>503.517497</td>\n    </tr>\n    <tr>\n      <th>std</th>\n      <td>4.334958</td>\n      <td>813.776176</td>\n    </tr>\n    <tr>\n      <th>min</th>\n      <td>2.000000</td>\n      <td>1.000000</td>\n    </tr>\n    <tr>\n      <th>25%</th>\n      <td>3.000000</td>\n      <td>73.000000</td>\n    </tr>\n    <tr>\n      <th>50%</th>\n      <td>5.000000</td>\n      <td>224.000000</td>\n    </tr>\n    <tr>\n      <th>75%</th>\n      <td>8.000000</td>\n      <td>582.000000</td>\n    </tr>\n    <tr>\n      <th>max</th>\n      <td>20.000000</td>\n      <td>15849.000000</td>\n    </tr>\n  </tbody>\n</table>\n</div>"
     },
     "metadata": {},
     "output_type": "execute_result",
     "execution_count": 18
    }
   ],
   "source": [
    "df = df[df.numberOfLines > 1]\n",
    "df_without_tests = df[df.docstringContainerImplementationType != \"TEST\"]\n",
    "clean_df = remove_outlier(df_without_tests, \"numberOfLines\")\n",
    "clean_df.describe()"
   ],
   "metadata": {
    "collapsed": false,
    "pycharm": {
     "name": "#%%\n",
     "is_executing": false
    }
   }
  },
  {
   "cell_type": "code",
   "execution_count": null,
   "outputs": [],
   "source": [
    "\n"
   ],
   "metadata": {
    "collapsed": false,
    "pycharm": {
     "name": "#%%\n"
    }
   }
  }
 ],
 "metadata": {
  "language_info": {
   "codemirror_mode": {
    "name": "ipython",
    "version": 2
   },
   "file_extension": ".py",
   "mimetype": "text/x-python",
   "name": "python",
   "nbconvert_exporter": "python",
   "pygments_lexer": "ipython2",
   "version": "2.7.6"
  },
  "kernelspec": {
   "name": "python3",
   "language": "python",
   "display_name": "Python 3"
  },
  "pycharm": {
   "stem_cell": {
    "cell_type": "raw",
    "source": [],
    "metadata": {
     "collapsed": false
    }
   }
  }
 },
 "nbformat": 4,
 "nbformat_minor": 0
}